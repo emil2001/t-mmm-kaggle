{
 "cells": [
  {
   "cell_type": "markdown",
   "metadata": {},
   "source": [
    "# Import"
   ]
  },
  {
   "cell_type": "code",
   "execution_count": 24,
   "metadata": {},
   "outputs": [],
   "source": [
    "import pandas\n",
    "import sklearn\n",
    "import evaluation\n",
    "import tensorflow as tf\n",
    "import numpy as np\n",
    "import seaborn as sns\n",
    "import matplotlib.pyplot as plt\n",
    "from sklearn.preprocessing import StandardScaler"
   ]
  },
  {
   "cell_type": "code",
   "execution_count": 12,
   "metadata": {},
   "outputs": [
    {
     "name": "stdout",
     "output_type": "stream",
     "text": [
      "1 Physical GPUs, 1 Logical GPUs\n"
     ]
    }
   ],
   "source": [
    "GPU_fix = \"MemoryFix\" # Choose \"Disable\", \"MemoryFix\" or \"None\"\n",
    "\n",
    "if GPU_fix == \"Disable\":\n",
    "    try:\n",
    "        # Disable all GPUS\n",
    "        tf.config.set_visible_devices([], 'GPU')\n",
    "        visible_devices = tf.config.get_visible_devices()\n",
    "        for device in visible_devices:\n",
    "            assert device.device_type != 'GPU'\n",
    "    except:\n",
    "        # Invalid device or cannot modify virtual devices once initialized.\n",
    "        pass\n",
    "elif GPU_fix == \"MemoryFix\":\n",
    "    gpus = tf.config.experimental.list_physical_devices('GPU')\n",
    "    if gpus:\n",
    "        try:\n",
    "            # Currently, memory growth needs to be the same across GPUs\n",
    "            for gpu in gpus:\n",
    "                tf.config.experimental.set_memory_growth(gpu, True)\n",
    "            logical_gpus = tf.config.experimental.list_logical_devices('GPU')\n",
    "            print(len(gpus), \"Physical GPUs,\", len(logical_gpus), \"Logical GPUs\")\n",
    "        except RuntimeError as e:\n",
    "            # Memory growth must be set before GPUs have been initialized\n",
    "            print(e)"
   ]
  },
  {
   "cell_type": "code",
   "execution_count": 25,
   "metadata": {},
   "outputs": [],
   "source": [
    "def preprocess_data(X, scaler=None):\n",
    "    if not scaler:\n",
    "        scaler = StandardScaler()\n",
    "        scaler.fit(X)\n",
    "    X = scaler.transform(X)\n",
    "    return X, scaler"
   ]
  },
  {
   "cell_type": "markdown",
   "metadata": {},
   "source": [
    "# Read training data"
   ]
  },
  {
   "cell_type": "code",
   "execution_count": 13,
   "metadata": {},
   "outputs": [
    {
     "name": "stdout",
     "output_type": "stream",
     "text": [
      "Add features\n",
      "Eliminate features\n"
     ]
    }
   ],
   "source": [
    "# https://www.kaggle.com/sionek/ugbc-gs\n",
    "folder = 'tau_data/'\n",
    "data = pandas.read_csv(folder + 'training.csv', index_col='id')\n",
    "#--------------- feature engineering -------------- #\n",
    "def add_features(df):\n",
    "    # features used by the others on Kaggle\n",
    "    df['NEW_FD_SUMP']=df['FlightDistance']/(df['p0_p']+df['p1_p']+df['p2_p'])\n",
    "    df['NEW5_lt']=df['LifeTime']*(df['p0_IP']+df['p1_IP']+df['p2_IP'])/3\n",
    "    df['p_track_Chi2Dof_MAX'] = df.loc[:, ['p0_track_Chi2Dof', 'p1_track_Chi2Dof', 'p2_track_Chi2Dof']].max(axis=1)\n",
    "    #df['flight_dist_sig'] = df['FlightDistance']/df['FlightDistanceError'] # modified to:\n",
    "    df['flight_dist_sig2'] = (df['FlightDistance']/df['FlightDistanceError'])**2\n",
    "    # features from phunter\n",
    "    df['flight_dist_sig'] = df['FlightDistance']/df['FlightDistanceError']\n",
    "    df['NEW_IP_dira'] = df['IP']*df['dira']\n",
    "    df['p0p2_ip_ratio']=df['IP']/df['IP_p0p2']\n",
    "    df['p1p2_ip_ratio']=df['IP']/df['IP_p1p2']\n",
    "    df['DCA_MAX'] = df.loc[:, ['DOCAone', 'DOCAtwo', 'DOCAthree']].max(axis=1)\n",
    "    df['iso_bdt_min'] = df.loc[:, ['p0_IsoBDT', 'p1_IsoBDT', 'p2_IsoBDT']].min(axis=1)\n",
    "    df['iso_min'] = df.loc[:, ['isolationa', 'isolationb', 'isolationc','isolationd', 'isolatione', 'isolationf']].min(axis=1)\n",
    "    # My:\n",
    "    # new combined features just to minimize their number;\n",
    "    # their physical sense doesn't matter\n",
    "    df['NEW_iso_abc'] = df['isolationa']*df['isolationb']*df['isolationc']\n",
    "    df['NEW_iso_def'] = df['isolationd']*df['isolatione']*df['isolationf']\n",
    "    df['NEW_pN_IP'] = df['p0_IP']+df['p1_IP']+df['p2_IP']\n",
    "    df['NEW_pN_p']  = df['p0_p']+df['p1_p']+df['p2_p']\n",
    "    df['NEW_IP_pNpN'] = df['IP_p0p2']*df['IP_p1p2']\n",
    "    df['NEW_pN_IPSig'] = df['p0_IPSig']+df['p1_IPSig']+df['p2_IPSig']\n",
    "    #My:\n",
    "    # \"super\" feature changing the result from 0.988641 to 0.991099\n",
    "    df['NEW_FD_LT']=df['FlightDistance']/df['LifeTime']\n",
    "    return df\n",
    "\n",
    "print(\"Add features\")\n",
    "train_df = add_features(data)\n",
    "\n",
    "print(\"Eliminate features\")\n",
    "filter_out = ['id', 'min_ANNmuon', 'production', 'mass', 'signal','p0_IP', 'p1_IP', 'p2_IP',\n",
    "              'IP_p0p2', 'IP_p1p2',\n",
    "              'p0_track_Chi2Dof', 'p1_track_Chi2Dof', 'p2_track_Chi2Dof',\n",
    "              'p0_IPSig', 'p1_IPSig', 'p2_IPSig',\n",
    "              'DOCAone', 'DOCAtwo', 'DOCAthree','p0_IsoBDT', 'p1_IsoBDT', 'p2_IsoBDT','isolationa', 'isolationb', 'isolationc', 'isolationd', 'isolatione', 'isolationf',\n",
    "              'p0_eta', 'p1_eta', 'p2_eta','p0_p', 'p1_p', 'p2_p','p0_pt', 'p1_pt', 'p2_pt']\n",
    "filter_out1 = ['id', 'min_ANNmuon', 'production', 'mass', 'signal',\n",
    "              'SPDhits','CDF1', 'CDF2', 'CDF3',\n",
    "              'p0_pt', 'p1_pt', 'p2_pt',\n",
    "              'p0_p', 'p1_p', 'p2_p', 'p0_eta', 'p1_eta', 'p2_eta',\n",
    "              'isolationa', 'isolationb', 'isolationc', 'isolationd', 'isolatione', 'isolationf',\n",
    "              'p0_IsoBDT', 'p1_IsoBDT', 'p2_IsoBDT',\n",
    "              'p0_IP', 'p1_IP', 'p2_IP',\n",
    "              'IP_p0p2', 'IP_p1p2',\n",
    "              'p0_track_Chi2Dof', 'p1_track_Chi2Dof', 'p2_track_Chi2Dof',\n",
    "              'p0_IPSig', 'p1_IPSig', 'p2_IPSig',\n",
    "              'DOCAone', 'DOCAtwo', 'DOCAthree']"
   ]
  },
  {
   "cell_type": "code",
   "execution_count": 14,
   "metadata": {},
   "outputs": [
    {
     "name": "stdout",
     "output_type": "stream",
     "text": [
      "32\n"
     ]
    }
   ],
   "source": [
    "#modified\n",
    "variables_mod = list(f for f in data.columns if f not in filter_out)\n",
    "print(len(variables_mod))"
   ]
  },
  {
   "cell_type": "code",
   "execution_count": 27,
   "metadata": {},
   "outputs": [],
   "source": [
    "train_df = data[variables_mod]\n",
    "train_df, scaler = preprocess_data(train_df)"
   ]
  },
  {
   "cell_type": "code",
   "execution_count": 28,
   "metadata": {},
   "outputs": [],
   "source": [
    "msk = np.random.rand(len(train_df)) < 0.8\n",
    "train = train_df[msk]\n",
    "val = train_df[~msk]"
   ]
  },
  {
   "cell_type": "code",
   "execution_count": 29,
   "metadata": {},
   "outputs": [
    {
     "name": "stdout",
     "output_type": "stream",
     "text": [
      "validation samples: 13555\n",
      "train samples: 53997\n"
     ]
    }
   ],
   "source": [
    "print('validation samples:',len(val))\n",
    "print('train samples:',len(train))"
   ]
  },
  {
   "cell_type": "markdown",
   "metadata": {},
   "source": [
    "# Baseline training"
   ]
  },
  {
   "cell_type": "code",
   "execution_count": 31,
   "metadata": {},
   "outputs": [],
   "source": [
    "#Create training arrays\n",
    "x_train = train\n",
    "y_train = data['signal'][msk].to_numpy()\n",
    "y_train = np.expand_dims(y_train,1)\n",
    "x_val = val\n",
    "y_val = data['signal'][~msk].to_numpy()\n",
    "y_val = np.expand_dims(y_val,1)"
   ]
  },
  {
   "cell_type": "code",
   "execution_count": 74,
   "metadata": {},
   "outputs": [],
   "source": [
    "model1 = tf.keras.models.Sequential([\n",
    "  tf.keras.layers.InputLayer(len(variables_mod)),\n",
    "  tf.keras.layers.BatchNormalization(),\n",
    "  tf.keras.layers.Dropout(0.2),\n",
    "  tf.keras.layers.Dense(200, activation=tf.keras.layers.LeakyReLU(alpha=0.05)),\n",
    "  tf.keras.layers.BatchNormalization(),\n",
    "  tf.keras.layers.Dropout(0.2),\n",
    "  tf.keras.layers.Dense(200, activation=tf.keras.layers.LeakyReLU(alpha=0.05)), \n",
    "  tf.keras.layers.BatchNormalization(),\n",
    "  tf.keras.layers.Dropout(0.2),\n",
    "  tf.keras.layers.Dense(100, activation=tf.keras.layers.LeakyReLU(alpha=0.05)), \n",
    "  tf.keras.layers.BatchNormalization(),\n",
    "  tf.keras.layers.Dropout(0.2),\n",
    "  tf.keras.layers.Dense(50, activation=tf.keras.layers.LeakyReLU(alpha=0.05)),  \n",
    "  tf.keras.layers.Dense(1, activation = tf.keras.activations.sigmoid)\n",
    "])\n",
    "model1.compile(optimizer=tf.keras.optimizers.Adam(learning_rate=0.005),\n",
    "              loss = tf.keras.losses.BinaryCrossentropy(),\n",
    "              metrics=['accuracy'])"
   ]
  },
  {
   "cell_type": "code",
   "execution_count": 75,
   "metadata": {},
   "outputs": [],
   "source": [
    "from tensorflow.keras.models import Sequential\n",
    "from tensorflow.keras.layers import Dense, Activation, Dropout, Input\n",
    "from tensorflow.keras.layers import PReLU\n",
    "model = Sequential()\n",
    "model.add(Input(shape=len(variables_mod)))\n",
    "model.add(Dropout(0.15))\n",
    "model.add(Dense(75))\n",
    "model.add(PReLU())\n",
    "\n",
    "model.add(Dropout(0.13))\n",
    "model.add(Dense(60))\n",
    "model.add(PReLU())\n",
    "\n",
    "model.add(Dropout(0.11))\n",
    "model.add(Dense(45))\n",
    "model.add(PReLU())\n",
    "\n",
    "model.add(Dropout(0.09))\n",
    "model.add(Dense(30))\n",
    "model.add(PReLU())\n",
    "\n",
    "model.add(Dropout(0.07))\n",
    "model.add(Dense(15))\n",
    "model.add(PReLU())\n",
    "\n",
    "model.add(Dense(1))\n",
    "model.add(Activation('sigmoid'))\n",
    "model.compile(loss='BinaryCrossentropy', optimizer='rmsprop',metrics=['accuracy'])"
   ]
  },
  {
   "cell_type": "code",
   "execution_count": 76,
   "metadata": {},
   "outputs": [
    {
     "name": "stdout",
     "output_type": "stream",
     "text": [
      "Model: \"sequential_21\"\n",
      "_________________________________________________________________\n",
      "Layer (type)                 Output Shape              Param #   \n",
      "=================================================================\n",
      "dropout_59 (Dropout)         (None, 32)                0         \n",
      "_________________________________________________________________\n",
      "dense_70 (Dense)             (None, 75)                2475      \n",
      "_________________________________________________________________\n",
      "p_re_lu_46 (PReLU)           (None, 75)                75        \n",
      "_________________________________________________________________\n",
      "dropout_60 (Dropout)         (None, 75)                0         \n",
      "_________________________________________________________________\n",
      "dense_71 (Dense)             (None, 60)                4560      \n",
      "_________________________________________________________________\n",
      "p_re_lu_47 (PReLU)           (None, 60)                60        \n",
      "_________________________________________________________________\n",
      "dropout_61 (Dropout)         (None, 60)                0         \n",
      "_________________________________________________________________\n",
      "dense_72 (Dense)             (None, 45)                2745      \n",
      "_________________________________________________________________\n",
      "p_re_lu_48 (PReLU)           (None, 45)                45        \n",
      "_________________________________________________________________\n",
      "dropout_62 (Dropout)         (None, 45)                0         \n",
      "_________________________________________________________________\n",
      "dense_73 (Dense)             (None, 30)                1380      \n",
      "_________________________________________________________________\n",
      "p_re_lu_49 (PReLU)           (None, 30)                30        \n",
      "_________________________________________________________________\n",
      "dropout_63 (Dropout)         (None, 30)                0         \n",
      "_________________________________________________________________\n",
      "dense_74 (Dense)             (None, 15)                465       \n",
      "_________________________________________________________________\n",
      "p_re_lu_50 (PReLU)           (None, 15)                15        \n",
      "_________________________________________________________________\n",
      "dense_75 (Dense)             (None, 1)                 16        \n",
      "_________________________________________________________________\n",
      "activation_8 (Activation)    (None, 1)                 0         \n",
      "=================================================================\n",
      "Total params: 11,866\n",
      "Trainable params: 11,866\n",
      "Non-trainable params: 0\n",
      "_________________________________________________________________\n"
     ]
    }
   ],
   "source": [
    "model.summary()"
   ]
  },
  {
   "cell_type": "code",
   "execution_count": 77,
   "metadata": {},
   "outputs": [],
   "source": [
    "from sklearn.utils import shuffle\n",
    "x_train, y_train = shuffle(x_train, y_train, random_state=0)"
   ]
  },
  {
   "cell_type": "code",
   "execution_count": 78,
   "metadata": {},
   "outputs": [
    {
     "name": "stdout",
     "output_type": "stream",
     "text": [
      "Epoch 1/100\n",
      "422/422 [==============================] - 5s 10ms/step - loss: 0.4228 - accuracy: 0.8162 - val_loss: 0.3099 - val_accuracy: 0.8713\n",
      "Epoch 2/100\n",
      "422/422 [==============================] - 4s 9ms/step - loss: 0.3466 - accuracy: 0.8515 - val_loss: 0.3035 - val_accuracy: 0.8716\n",
      "Epoch 3/100\n",
      "422/422 [==============================] - 4s 9ms/step - loss: 0.3403 - accuracy: 0.8560 - val_loss: 0.3013 - val_accuracy: 0.8738\n",
      "Epoch 4/100\n",
      "422/422 [==============================] - 4s 9ms/step - loss: 0.3356 - accuracy: 0.8593 - val_loss: 0.3008 - val_accuracy: 0.8750\n",
      "Epoch 5/100\n",
      "422/422 [==============================] - 4s 9ms/step - loss: 0.3304 - accuracy: 0.8603 - val_loss: 0.3067 - val_accuracy: 0.8736\n",
      "Epoch 6/100\n",
      "422/422 [==============================] - 4s 9ms/step - loss: 0.3289 - accuracy: 0.8634 - val_loss: 0.2960 - val_accuracy: 0.8744\n",
      "Epoch 7/100\n",
      "422/422 [==============================] - 4s 9ms/step - loss: 0.3248 - accuracy: 0.8642 - val_loss: 0.3006 - val_accuracy: 0.8741\n",
      "Epoch 8/100\n",
      "422/422 [==============================] - 4s 9ms/step - loss: 0.3285 - accuracy: 0.8594 - val_loss: 0.2955 - val_accuracy: 0.8777\n",
      "Epoch 9/100\n",
      "422/422 [==============================] - 4s 9ms/step - loss: 0.3236 - accuracy: 0.8628 - val_loss: 0.2941 - val_accuracy: 0.8766\n",
      "Epoch 10/100\n",
      "422/422 [==============================] - 4s 9ms/step - loss: 0.3303 - accuracy: 0.8595 - val_loss: 0.2934 - val_accuracy: 0.8772\n",
      "Epoch 11/100\n",
      "422/422 [==============================] - 4s 9ms/step - loss: 0.3238 - accuracy: 0.8648 - val_loss: 0.2921 - val_accuracy: 0.8783\n",
      "Epoch 12/100\n",
      "422/422 [==============================] - 4s 9ms/step - loss: 0.3263 - accuracy: 0.8644 - val_loss: 0.2962 - val_accuracy: 0.8772\n",
      "Epoch 13/100\n",
      "422/422 [==============================] - 4s 9ms/step - loss: 0.3248 - accuracy: 0.8641 - val_loss: 0.2923 - val_accuracy: 0.8773\n",
      "Epoch 14/100\n",
      "422/422 [==============================] - 4s 9ms/step - loss: 0.3196 - accuracy: 0.8647 - val_loss: 0.2915 - val_accuracy: 0.8764\n",
      "Epoch 15/100\n",
      "422/422 [==============================] - 4s 9ms/step - loss: 0.3176 - accuracy: 0.8676 - val_loss: 0.2956 - val_accuracy: 0.8792\n",
      "Epoch 16/100\n",
      "422/422 [==============================] - 4s 9ms/step - loss: 0.3185 - accuracy: 0.8645 - val_loss: 0.2906 - val_accuracy: 0.8788\n",
      "Epoch 17/100\n",
      "422/422 [==============================] - 4s 9ms/step - loss: 0.3163 - accuracy: 0.8676 - val_loss: 0.2926 - val_accuracy: 0.8775\n",
      "Epoch 18/100\n",
      "422/422 [==============================] - 4s 9ms/step - loss: 0.3192 - accuracy: 0.8661 - val_loss: 0.2944 - val_accuracy: 0.8789\n",
      "Epoch 19/100\n",
      "422/422 [==============================] - 4s 9ms/step - loss: 0.3204 - accuracy: 0.8647 - val_loss: 0.2967 - val_accuracy: 0.8764\n",
      "Epoch 20/100\n",
      "422/422 [==============================] - 4s 9ms/step - loss: 0.3165 - accuracy: 0.8651 - val_loss: 0.2981 - val_accuracy: 0.8798\n",
      "Epoch 21/100\n",
      "422/422 [==============================] - 4s 9ms/step - loss: 0.3196 - accuracy: 0.8662 - val_loss: 0.2967 - val_accuracy: 0.8777\n",
      "Epoch 22/100\n",
      "422/422 [==============================] - 4s 9ms/step - loss: 0.3181 - accuracy: 0.8664 - val_loss: 0.2908 - val_accuracy: 0.8800\n",
      "Epoch 23/100\n",
      "422/422 [==============================] - 4s 9ms/step - loss: 0.3202 - accuracy: 0.8655 - val_loss: 0.2925 - val_accuracy: 0.8789\n",
      "Epoch 24/100\n",
      "422/422 [==============================] - 4s 9ms/step - loss: 0.3197 - accuracy: 0.8642 - val_loss: 0.2954 - val_accuracy: 0.8804\n",
      "Epoch 25/100\n",
      "422/422 [==============================] - 4s 9ms/step - loss: 0.3208 - accuracy: 0.8660 - val_loss: 0.2905 - val_accuracy: 0.8769\n",
      "Epoch 26/100\n",
      "422/422 [==============================] - 4s 9ms/step - loss: 0.3166 - accuracy: 0.8657 - val_loss: 0.2955 - val_accuracy: 0.8786\n",
      "Epoch 27/100\n",
      "422/422 [==============================] - 4s 9ms/step - loss: 0.3167 - accuracy: 0.8660 - val_loss: 0.2935 - val_accuracy: 0.8789\n",
      "Epoch 28/100\n",
      "422/422 [==============================] - 4s 9ms/step - loss: 0.3172 - accuracy: 0.8670 - val_loss: 0.2868 - val_accuracy: 0.8795\n",
      "Epoch 29/100\n",
      "422/422 [==============================] - 4s 9ms/step - loss: 0.3136 - accuracy: 0.8676 - val_loss: 0.2920 - val_accuracy: 0.8804\n",
      "Epoch 30/100\n",
      "422/422 [==============================] - 4s 9ms/step - loss: 0.3184 - accuracy: 0.8659 - val_loss: 0.2953 - val_accuracy: 0.8783\n",
      "Epoch 31/100\n",
      "422/422 [==============================] - 4s 9ms/step - loss: 0.3170 - accuracy: 0.8669 - val_loss: 0.2883 - val_accuracy: 0.8781\n",
      "Epoch 32/100\n",
      "422/422 [==============================] - 4s 9ms/step - loss: 0.3165 - accuracy: 0.8681 - val_loss: 0.2954 - val_accuracy: 0.8795\n",
      "Epoch 33/100\n",
      "422/422 [==============================] - 4s 9ms/step - loss: 0.3144 - accuracy: 0.8696 - val_loss: 0.2920 - val_accuracy: 0.8792\n",
      "Epoch 34/100\n",
      "422/422 [==============================] - 4s 9ms/step - loss: 0.3121 - accuracy: 0.8706 - val_loss: 0.2930 - val_accuracy: 0.8799\n",
      "Epoch 35/100\n",
      "422/422 [==============================] - 4s 9ms/step - loss: 0.3170 - accuracy: 0.8674 - val_loss: 0.2957 - val_accuracy: 0.8791\n",
      "Epoch 36/100\n",
      "422/422 [==============================] - 4s 9ms/step - loss: 0.3148 - accuracy: 0.8686 - val_loss: 0.3010 - val_accuracy: 0.8789\n",
      "Epoch 37/100\n",
      "422/422 [==============================] - 4s 9ms/step - loss: 0.3211 - accuracy: 0.8642 - val_loss: 0.2865 - val_accuracy: 0.8791\n",
      "Epoch 38/100\n",
      "422/422 [==============================] - 4s 9ms/step - loss: 0.3176 - accuracy: 0.8667 - val_loss: 0.3033 - val_accuracy: 0.8806\n",
      "Epoch 39/100\n",
      "422/422 [==============================] - 4s 9ms/step - loss: 0.3141 - accuracy: 0.8684 - val_loss: 0.2925 - val_accuracy: 0.8802\n",
      "Epoch 40/100\n",
      "422/422 [==============================] - 4s 9ms/step - loss: 0.3158 - accuracy: 0.8661 - val_loss: 0.2889 - val_accuracy: 0.8803\n",
      "Epoch 41/100\n",
      "422/422 [==============================] - 4s 9ms/step - loss: 0.3141 - accuracy: 0.8678 - val_loss: 0.2927 - val_accuracy: 0.8791\n",
      "Epoch 42/100\n",
      "422/422 [==============================] - 4s 9ms/step - loss: 0.3156 - accuracy: 0.8673 - val_loss: 0.2870 - val_accuracy: 0.8806\n",
      "Epoch 43/100\n",
      "422/422 [==============================] - 4s 9ms/step - loss: 0.3172 - accuracy: 0.8666 - val_loss: 0.2875 - val_accuracy: 0.8772\n",
      "Epoch 44/100\n",
      "422/422 [==============================] - 4s 9ms/step - loss: 0.3178 - accuracy: 0.8678 - val_loss: 0.2869 - val_accuracy: 0.8806\n",
      "Epoch 45/100\n",
      "422/422 [==============================] - 4s 9ms/step - loss: 0.3120 - accuracy: 0.8684 - val_loss: 0.2944 - val_accuracy: 0.8814\n",
      "Epoch 46/100\n",
      "422/422 [==============================] - 4s 9ms/step - loss: 0.3187 - accuracy: 0.8660 - val_loss: 0.2884 - val_accuracy: 0.8784\n",
      "Epoch 47/100\n",
      "422/422 [==============================] - 4s 9ms/step - loss: 0.3168 - accuracy: 0.8663 - val_loss: 0.2912 - val_accuracy: 0.8795\n",
      "Epoch 48/100\n",
      "422/422 [==============================] - 4s 9ms/step - loss: 0.3132 - accuracy: 0.8695 - val_loss: 0.2933 - val_accuracy: 0.8812\n",
      "Epoch 49/100\n",
      "422/422 [==============================] - 4s 9ms/step - loss: 0.3116 - accuracy: 0.8693 - val_loss: 0.2914 - val_accuracy: 0.8792\n",
      "Epoch 50/100\n",
      "422/422 [==============================] - 4s 9ms/step - loss: 0.3157 - accuracy: 0.8658 - val_loss: 0.2891 - val_accuracy: 0.8795\n",
      "Epoch 51/100\n",
      "422/422 [==============================] - 4s 9ms/step - loss: 0.3178 - accuracy: 0.8666 - val_loss: 0.2879 - val_accuracy: 0.8809\n",
      "Epoch 52/100\n",
      "422/422 [==============================] - 4s 9ms/step - loss: 0.3145 - accuracy: 0.8672 - val_loss: 0.2931 - val_accuracy: 0.8804\n",
      "Epoch 53/100\n",
      "422/422 [==============================] - 4s 9ms/step - loss: 0.3095 - accuracy: 0.8703 - val_loss: 0.2868 - val_accuracy: 0.8812\n",
      "Epoch 54/100\n",
      "422/422 [==============================] - 4s 9ms/step - loss: 0.3176 - accuracy: 0.8673 - val_loss: 0.2932 - val_accuracy: 0.8785\n",
      "Epoch 55/100\n",
      "422/422 [==============================] - 4s 9ms/step - loss: 0.3177 - accuracy: 0.8671 - val_loss: 0.2910 - val_accuracy: 0.8817\n",
      "Epoch 56/100\n",
      "422/422 [==============================] - 4s 9ms/step - loss: 0.3191 - accuracy: 0.8666 - val_loss: 0.2858 - val_accuracy: 0.8799\n",
      "Epoch 57/100\n",
      "422/422 [==============================] - 4s 9ms/step - loss: 0.3154 - accuracy: 0.8674 - val_loss: 0.2891 - val_accuracy: 0.8799\n"
     ]
    },
    {
     "name": "stdout",
     "output_type": "stream",
     "text": [
      "Epoch 58/100\n",
      "422/422 [==============================] - 4s 9ms/step - loss: 0.3116 - accuracy: 0.8704 - val_loss: 0.2873 - val_accuracy: 0.8812\n",
      "Epoch 59/100\n",
      "422/422 [==============================] - 4s 9ms/step - loss: 0.3152 - accuracy: 0.8668 - val_loss: 0.2854 - val_accuracy: 0.8812\n",
      "Epoch 60/100\n",
      "422/422 [==============================] - 4s 9ms/step - loss: 0.3196 - accuracy: 0.8671 - val_loss: 0.2857 - val_accuracy: 0.8805\n",
      "Epoch 61/100\n",
      "422/422 [==============================] - 4s 9ms/step - loss: 0.3130 - accuracy: 0.8678 - val_loss: 0.2899 - val_accuracy: 0.8822\n",
      "Epoch 62/100\n",
      "422/422 [==============================] - 4s 9ms/step - loss: 0.3141 - accuracy: 0.8679 - val_loss: 0.2897 - val_accuracy: 0.8802\n",
      "Epoch 63/100\n",
      "422/422 [==============================] - 4s 9ms/step - loss: 0.3125 - accuracy: 0.8677 - val_loss: 0.2909 - val_accuracy: 0.8805\n",
      "Epoch 64/100\n",
      "422/422 [==============================] - 4s 9ms/step - loss: 0.3146 - accuracy: 0.8695 - val_loss: 0.2905 - val_accuracy: 0.8807\n",
      "Epoch 65/100\n",
      "422/422 [==============================] - 4s 9ms/step - loss: 0.3137 - accuracy: 0.8678 - val_loss: 0.2882 - val_accuracy: 0.8795\n",
      "Epoch 66/100\n",
      "422/422 [==============================] - 4s 9ms/step - loss: 0.3151 - accuracy: 0.8672 - val_loss: 0.2883 - val_accuracy: 0.8807\n",
      "Epoch 67/100\n",
      "422/422 [==============================] - 4s 9ms/step - loss: 0.3192 - accuracy: 0.8624 - val_loss: 0.2901 - val_accuracy: 0.8802\n",
      "Epoch 68/100\n",
      "422/422 [==============================] - 4s 9ms/step - loss: 0.3069 - accuracy: 0.8723 - val_loss: 0.2912 - val_accuracy: 0.8812\n",
      "Epoch 69/100\n",
      "422/422 [==============================] - 4s 9ms/step - loss: 0.3147 - accuracy: 0.8672 - val_loss: 0.2878 - val_accuracy: 0.8791\n",
      "Epoch 70/100\n",
      "422/422 [==============================] - 4s 9ms/step - loss: 0.3147 - accuracy: 0.8679 - val_loss: 0.2899 - val_accuracy: 0.8812\n",
      "Epoch 71/100\n",
      "422/422 [==============================] - 4s 9ms/step - loss: 0.3123 - accuracy: 0.8703 - val_loss: 0.2885 - val_accuracy: 0.8813\n",
      "Epoch 72/100\n",
      "422/422 [==============================] - 4s 9ms/step - loss: 0.3170 - accuracy: 0.8676 - val_loss: 0.2930 - val_accuracy: 0.8806\n",
      "Epoch 73/100\n",
      "422/422 [==============================] - 4s 9ms/step - loss: 0.3152 - accuracy: 0.8656 - val_loss: 0.2896 - val_accuracy: 0.8814\n",
      "Epoch 74/100\n",
      "422/422 [==============================] - 4s 9ms/step - loss: 0.3080 - accuracy: 0.8693 - val_loss: 0.2892 - val_accuracy: 0.8822\n",
      "Epoch 75/100\n",
      "422/422 [==============================] - 4s 9ms/step - loss: 0.3162 - accuracy: 0.8660 - val_loss: 0.2927 - val_accuracy: 0.8800\n",
      "Epoch 76/100\n",
      "422/422 [==============================] - 4s 9ms/step - loss: 0.3127 - accuracy: 0.8703 - val_loss: 0.2913 - val_accuracy: 0.8811\n",
      "Epoch 77/100\n",
      "422/422 [==============================] - 4s 9ms/step - loss: 0.3107 - accuracy: 0.8693 - val_loss: 0.2894 - val_accuracy: 0.8789\n",
      "Epoch 78/100\n",
      "422/422 [==============================] - 4s 9ms/step - loss: 0.3140 - accuracy: 0.8662 - val_loss: 0.2952 - val_accuracy: 0.8801\n",
      "Epoch 79/100\n",
      "422/422 [==============================] - 4s 9ms/step - loss: 0.3095 - accuracy: 0.8664 - val_loss: 0.2939 - val_accuracy: 0.8813\n",
      "Epoch 80/100\n",
      "422/422 [==============================] - 4s 9ms/step - loss: 0.3103 - accuracy: 0.8684 - val_loss: 0.2904 - val_accuracy: 0.8818\n",
      "Epoch 81/100\n",
      "422/422 [==============================] - 4s 9ms/step - loss: 0.3157 - accuracy: 0.8714 - val_loss: 0.2891 - val_accuracy: 0.8797\n",
      "Epoch 82/100\n",
      "422/422 [==============================] - 4s 9ms/step - loss: 0.3137 - accuracy: 0.8695 - val_loss: 0.2918 - val_accuracy: 0.8806\n",
      "Epoch 83/100\n",
      "422/422 [==============================] - 4s 9ms/step - loss: 0.3170 - accuracy: 0.8684 - val_loss: 0.2887 - val_accuracy: 0.8821\n",
      "Epoch 84/100\n",
      "422/422 [==============================] - 4s 9ms/step - loss: 0.3154 - accuracy: 0.8662 - val_loss: 0.2858 - val_accuracy: 0.8806\n",
      "Epoch 85/100\n",
      "422/422 [==============================] - 4s 9ms/step - loss: 0.3156 - accuracy: 0.8683 - val_loss: 0.2895 - val_accuracy: 0.8812\n",
      "Epoch 86/100\n",
      "422/422 [==============================] - 4s 9ms/step - loss: 0.3146 - accuracy: 0.8670 - val_loss: 0.2910 - val_accuracy: 0.8795\n",
      "Epoch 87/100\n",
      "422/422 [==============================] - 4s 9ms/step - loss: 0.3105 - accuracy: 0.8680 - val_loss: 0.2879 - val_accuracy: 0.8808\n",
      "Epoch 88/100\n",
      "422/422 [==============================] - 4s 9ms/step - loss: 0.3116 - accuracy: 0.8673 - val_loss: 0.2878 - val_accuracy: 0.8808\n",
      "Epoch 89/100\n",
      "422/422 [==============================] - 4s 9ms/step - loss: 0.3084 - accuracy: 0.8710 - val_loss: 0.2867 - val_accuracy: 0.8807\n",
      "Epoch 90/100\n",
      "422/422 [==============================] - 4s 9ms/step - loss: 0.3214 - accuracy: 0.8657 - val_loss: 0.2878 - val_accuracy: 0.8798\n",
      "Epoch 91/100\n",
      "422/422 [==============================] - 4s 9ms/step - loss: 0.3085 - accuracy: 0.8714 - val_loss: 0.2868 - val_accuracy: 0.8806\n",
      "Epoch 92/100\n",
      "422/422 [==============================] - 4s 9ms/step - loss: 0.3171 - accuracy: 0.8654 - val_loss: 0.2937 - val_accuracy: 0.8817\n",
      "Epoch 93/100\n",
      "422/422 [==============================] - 4s 9ms/step - loss: 0.3139 - accuracy: 0.8711 - val_loss: 0.2848 - val_accuracy: 0.8817\n",
      "Epoch 94/100\n",
      "422/422 [==============================] - 4s 9ms/step - loss: 0.3111 - accuracy: 0.8690 - val_loss: 0.2874 - val_accuracy: 0.8814\n",
      "Epoch 95/100\n",
      "422/422 [==============================] - 4s 9ms/step - loss: 0.3081 - accuracy: 0.8715 - val_loss: 0.2917 - val_accuracy: 0.8814\n",
      "Epoch 96/100\n",
      "422/422 [==============================] - 4s 9ms/step - loss: 0.3156 - accuracy: 0.8680 - val_loss: 0.2866 - val_accuracy: 0.8802\n",
      "Epoch 97/100\n",
      "422/422 [==============================] - 4s 9ms/step - loss: 0.3087 - accuracy: 0.8704 - val_loss: 0.2868 - val_accuracy: 0.8813\n",
      "Epoch 98/100\n",
      "422/422 [==============================] - 4s 9ms/step - loss: 0.3112 - accuracy: 0.8690 - val_loss: 0.2905 - val_accuracy: 0.8809\n",
      "Epoch 99/100\n",
      "422/422 [==============================] - 4s 9ms/step - loss: 0.3145 - accuracy: 0.8695 - val_loss: 0.2935 - val_accuracy: 0.8800\n",
      "Epoch 100/100\n",
      "422/422 [==============================] - 4s 9ms/step - loss: 0.3141 - accuracy: 0.8691 - val_loss: 0.2867 - val_accuracy: 0.8814\n",
      "Epoch 1/100\n",
      "422/422 [==============================] - 5s 8ms/step - loss: 0.3879 - accuracy: 0.8283 - val_loss: 0.2998 - val_accuracy: 0.8744\n",
      "Epoch 2/100\n",
      "422/422 [==============================] - 3s 8ms/step - loss: 0.3439 - accuracy: 0.8522 - val_loss: 0.3006 - val_accuracy: 0.8693\n",
      "Epoch 3/100\n",
      "422/422 [==============================] - 3s 8ms/step - loss: 0.3413 - accuracy: 0.8546 - val_loss: 0.3081 - val_accuracy: 0.8736\n",
      "Epoch 4/100\n",
      "422/422 [==============================] - 3s 8ms/step - loss: 0.3415 - accuracy: 0.8541 - val_loss: 0.3005 - val_accuracy: 0.8757\n",
      "Epoch 5/100\n",
      "422/422 [==============================] - 3s 8ms/step - loss: 0.3339 - accuracy: 0.8599 - val_loss: 0.2974 - val_accuracy: 0.8746\n",
      "Epoch 6/100\n",
      "422/422 [==============================] - 3s 8ms/step - loss: 0.3320 - accuracy: 0.8583 - val_loss: 0.2997 - val_accuracy: 0.8706\n",
      "Epoch 7/100\n",
      "422/422 [==============================] - 3s 8ms/step - loss: 0.3287 - accuracy: 0.8595 - val_loss: 0.3027 - val_accuracy: 0.8701\n",
      "Epoch 8/100\n",
      "422/422 [==============================] - 3s 8ms/step - loss: 0.3332 - accuracy: 0.8578 - val_loss: 0.2953 - val_accuracy: 0.8771\n",
      "Epoch 9/100\n",
      "422/422 [==============================] - 3s 8ms/step - loss: 0.3305 - accuracy: 0.8576 - val_loss: 0.2943 - val_accuracy: 0.8735\n",
      "Epoch 10/100\n",
      "422/422 [==============================] - 3s 8ms/step - loss: 0.3231 - accuracy: 0.8633 - val_loss: 0.2956 - val_accuracy: 0.8761\n",
      "Epoch 11/100\n",
      "422/422 [==============================] - 3s 8ms/step - loss: 0.3307 - accuracy: 0.8602 - val_loss: 0.2978 - val_accuracy: 0.8725\n",
      "Epoch 12/100\n",
      "422/422 [==============================] - 3s 8ms/step - loss: 0.3269 - accuracy: 0.8612 - val_loss: 0.2945 - val_accuracy: 0.8757\n",
      "Epoch 13/100\n",
      "422/422 [==============================] - 3s 8ms/step - loss: 0.3317 - accuracy: 0.8581 - val_loss: 0.2904 - val_accuracy: 0.8781\n",
      "Epoch 14/100\n",
      "422/422 [==============================] - 3s 8ms/step - loss: 0.3308 - accuracy: 0.8574 - val_loss: 0.2903 - val_accuracy: 0.8783\n"
     ]
    },
    {
     "name": "stdout",
     "output_type": "stream",
     "text": [
      "Epoch 15/100\n",
      "422/422 [==============================] - 3s 8ms/step - loss: 0.3292 - accuracy: 0.8582 - val_loss: 0.2942 - val_accuracy: 0.8767\n",
      "Epoch 16/100\n",
      "422/422 [==============================] - 3s 8ms/step - loss: 0.3316 - accuracy: 0.8584 - val_loss: 0.2961 - val_accuracy: 0.8778\n",
      "Epoch 17/100\n",
      "422/422 [==============================] - 3s 8ms/step - loss: 0.3294 - accuracy: 0.8605 - val_loss: 0.2890 - val_accuracy: 0.8783\n",
      "Epoch 18/100\n",
      "422/422 [==============================] - 3s 8ms/step - loss: 0.3211 - accuracy: 0.8626 - val_loss: 0.2898 - val_accuracy: 0.8773\n",
      "Epoch 19/100\n",
      "422/422 [==============================] - 3s 8ms/step - loss: 0.3224 - accuracy: 0.8617 - val_loss: 0.2915 - val_accuracy: 0.8774\n",
      "Epoch 20/100\n",
      "422/422 [==============================] - 3s 8ms/step - loss: 0.3270 - accuracy: 0.8617 - val_loss: 0.2899 - val_accuracy: 0.8779\n",
      "Epoch 21/100\n",
      "422/422 [==============================] - 3s 8ms/step - loss: 0.3200 - accuracy: 0.8659 - val_loss: 0.2948 - val_accuracy: 0.8779\n",
      "Epoch 22/100\n",
      "422/422 [==============================] - 3s 8ms/step - loss: 0.3230 - accuracy: 0.8644 - val_loss: 0.3017 - val_accuracy: 0.8730\n",
      "Epoch 23/100\n",
      "422/422 [==============================] - 3s 8ms/step - loss: 0.3236 - accuracy: 0.8636 - val_loss: 0.2907 - val_accuracy: 0.8775\n",
      "Epoch 24/100\n",
      "422/422 [==============================] - 3s 8ms/step - loss: 0.3283 - accuracy: 0.8609 - val_loss: 0.2887 - val_accuracy: 0.8781\n",
      "Epoch 25/100\n",
      "422/422 [==============================] - 3s 8ms/step - loss: 0.3269 - accuracy: 0.8608 - val_loss: 0.2897 - val_accuracy: 0.8755\n",
      "Epoch 26/100\n",
      "422/422 [==============================] - 3s 8ms/step - loss: 0.3227 - accuracy: 0.8638 - val_loss: 0.2927 - val_accuracy: 0.8779\n",
      "Epoch 27/100\n",
      "422/422 [==============================] - 3s 8ms/step - loss: 0.3271 - accuracy: 0.8596 - val_loss: 0.2936 - val_accuracy: 0.8750\n",
      "Epoch 28/100\n",
      "422/422 [==============================] - 3s 8ms/step - loss: 0.3266 - accuracy: 0.8611 - val_loss: 0.2916 - val_accuracy: 0.8772\n",
      "Epoch 29/100\n",
      "422/422 [==============================] - 3s 8ms/step - loss: 0.3242 - accuracy: 0.8620 - val_loss: 0.2905 - val_accuracy: 0.8789\n",
      "Epoch 30/100\n",
      "422/422 [==============================] - 3s 8ms/step - loss: 0.3257 - accuracy: 0.8616 - val_loss: 0.2943 - val_accuracy: 0.8759\n",
      "Epoch 31/100\n",
      "422/422 [==============================] - 3s 8ms/step - loss: 0.3214 - accuracy: 0.8628 - val_loss: 0.2890 - val_accuracy: 0.8770\n",
      "Epoch 32/100\n",
      "422/422 [==============================] - 3s 8ms/step - loss: 0.3276 - accuracy: 0.8601 - val_loss: 0.2931 - val_accuracy: 0.8795\n",
      "Epoch 33/100\n",
      "422/422 [==============================] - 3s 8ms/step - loss: 0.3226 - accuracy: 0.8625 - val_loss: 0.2898 - val_accuracy: 0.8794\n",
      "Epoch 34/100\n",
      "422/422 [==============================] - 3s 8ms/step - loss: 0.3244 - accuracy: 0.8603 - val_loss: 0.2902 - val_accuracy: 0.8762\n",
      "Epoch 35/100\n",
      "422/422 [==============================] - 3s 8ms/step - loss: 0.3208 - accuracy: 0.8616 - val_loss: 0.2893 - val_accuracy: 0.8772\n",
      "Epoch 36/100\n",
      "422/422 [==============================] - 3s 8ms/step - loss: 0.3193 - accuracy: 0.8624 - val_loss: 0.2908 - val_accuracy: 0.8789\n",
      "Epoch 37/100\n",
      "422/422 [==============================] - 3s 8ms/step - loss: 0.3211 - accuracy: 0.8634 - val_loss: 0.2953 - val_accuracy: 0.8795\n",
      "Epoch 38/100\n",
      "422/422 [==============================] - 3s 8ms/step - loss: 0.3172 - accuracy: 0.8655 - val_loss: 0.2908 - val_accuracy: 0.8745\n",
      "Epoch 39/100\n",
      "422/422 [==============================] - 3s 8ms/step - loss: 0.3265 - accuracy: 0.8607 - val_loss: 0.2929 - val_accuracy: 0.8776\n",
      "Epoch 40/100\n",
      "422/422 [==============================] - 3s 8ms/step - loss: 0.3146 - accuracy: 0.8662 - val_loss: 0.2930 - val_accuracy: 0.8781\n",
      "Epoch 41/100\n",
      "422/422 [==============================] - 3s 8ms/step - loss: 0.3176 - accuracy: 0.8635 - val_loss: 0.2890 - val_accuracy: 0.8812\n",
      "Epoch 42/100\n",
      "422/422 [==============================] - 3s 8ms/step - loss: 0.3237 - accuracy: 0.8611 - val_loss: 0.2904 - val_accuracy: 0.8792\n",
      "Epoch 43/100\n",
      "422/422 [==============================] - 3s 8ms/step - loss: 0.3205 - accuracy: 0.8641 - val_loss: 0.2907 - val_accuracy: 0.8758\n",
      "Epoch 44/100\n",
      "422/422 [==============================] - 3s 8ms/step - loss: 0.3183 - accuracy: 0.8637 - val_loss: 0.2862 - val_accuracy: 0.8806\n",
      "Epoch 45/100\n",
      "422/422 [==============================] - 3s 8ms/step - loss: 0.3153 - accuracy: 0.8638 - val_loss: 0.2896 - val_accuracy: 0.8792\n",
      "Epoch 46/100\n",
      "422/422 [==============================] - 3s 8ms/step - loss: 0.3223 - accuracy: 0.8633 - val_loss: 0.2944 - val_accuracy: 0.8767\n",
      "Epoch 47/100\n",
      "422/422 [==============================] - 3s 8ms/step - loss: 0.3242 - accuracy: 0.8623 - val_loss: 0.2884 - val_accuracy: 0.8765\n",
      "Epoch 48/100\n",
      "422/422 [==============================] - 3s 8ms/step - loss: 0.3219 - accuracy: 0.8627 - val_loss: 0.2965 - val_accuracy: 0.8783\n",
      "Epoch 49/100\n",
      "422/422 [==============================] - 3s 8ms/step - loss: 0.3227 - accuracy: 0.8626 - val_loss: 0.2883 - val_accuracy: 0.8759\n",
      "Epoch 50/100\n",
      "422/422 [==============================] - 3s 8ms/step - loss: 0.3224 - accuracy: 0.8638 - val_loss: 0.2904 - val_accuracy: 0.8819\n",
      "Epoch 51/100\n",
      "422/422 [==============================] - 3s 8ms/step - loss: 0.3156 - accuracy: 0.8641 - val_loss: 0.2857 - val_accuracy: 0.8797\n",
      "Epoch 52/100\n",
      "422/422 [==============================] - 3s 8ms/step - loss: 0.3187 - accuracy: 0.8631 - val_loss: 0.2944 - val_accuracy: 0.8791\n",
      "Epoch 53/100\n",
      "422/422 [==============================] - 3s 8ms/step - loss: 0.3193 - accuracy: 0.8630 - val_loss: 0.2885 - val_accuracy: 0.8819\n",
      "Epoch 54/100\n",
      "422/422 [==============================] - 3s 8ms/step - loss: 0.3200 - accuracy: 0.8637 - val_loss: 0.2891 - val_accuracy: 0.8817\n",
      "Epoch 55/100\n",
      "422/422 [==============================] - 3s 8ms/step - loss: 0.3134 - accuracy: 0.8658 - val_loss: 0.2935 - val_accuracy: 0.8782\n",
      "Epoch 56/100\n",
      "422/422 [==============================] - 3s 8ms/step - loss: 0.3213 - accuracy: 0.8640 - val_loss: 0.2899 - val_accuracy: 0.8786\n",
      "Epoch 57/100\n",
      "422/422 [==============================] - 3s 8ms/step - loss: 0.3222 - accuracy: 0.8599 - val_loss: 0.2881 - val_accuracy: 0.8812\n",
      "Epoch 58/100\n",
      "422/422 [==============================] - 3s 8ms/step - loss: 0.3199 - accuracy: 0.8615 - val_loss: 0.2920 - val_accuracy: 0.8780\n",
      "Epoch 59/100\n",
      "422/422 [==============================] - 3s 8ms/step - loss: 0.3195 - accuracy: 0.8636 - val_loss: 0.2868 - val_accuracy: 0.8812\n",
      "Epoch 60/100\n",
      "422/422 [==============================] - 3s 8ms/step - loss: 0.3189 - accuracy: 0.8639 - val_loss: 0.2917 - val_accuracy: 0.8789\n",
      "Epoch 61/100\n",
      "422/422 [==============================] - 3s 8ms/step - loss: 0.3179 - accuracy: 0.8653 - val_loss: 0.2874 - val_accuracy: 0.8821\n",
      "Epoch 62/100\n",
      "422/422 [==============================] - 3s 8ms/step - loss: 0.3175 - accuracy: 0.8642 - val_loss: 0.2886 - val_accuracy: 0.8775\n",
      "Epoch 63/100\n",
      "422/422 [==============================] - 3s 8ms/step - loss: 0.3193 - accuracy: 0.8634 - val_loss: 0.2967 - val_accuracy: 0.8805\n",
      "Epoch 64/100\n",
      "422/422 [==============================] - 3s 8ms/step - loss: 0.3207 - accuracy: 0.8625 - val_loss: 0.2883 - val_accuracy: 0.8800\n",
      "Epoch 65/100\n",
      "422/422 [==============================] - 3s 8ms/step - loss: 0.3082 - accuracy: 0.8696 - val_loss: 0.3082 - val_accuracy: 0.8733\n",
      "Epoch 66/100\n",
      "422/422 [==============================] - 3s 8ms/step - loss: 0.3202 - accuracy: 0.8623 - val_loss: 0.2879 - val_accuracy: 0.8813\n",
      "Epoch 67/100\n",
      "422/422 [==============================] - 3s 8ms/step - loss: 0.3138 - accuracy: 0.8669 - val_loss: 0.2893 - val_accuracy: 0.8745\n",
      "Epoch 68/100\n",
      "422/422 [==============================] - 3s 8ms/step - loss: 0.3151 - accuracy: 0.8657 - val_loss: 0.2920 - val_accuracy: 0.8761\n",
      "Epoch 69/100\n",
      "422/422 [==============================] - 3s 8ms/step - loss: 0.3173 - accuracy: 0.8647 - val_loss: 0.2889 - val_accuracy: 0.8783\n",
      "Epoch 70/100\n",
      "422/422 [==============================] - 4s 8ms/step - loss: 0.3191 - accuracy: 0.8629 - val_loss: 0.2888 - val_accuracy: 0.8802\n",
      "Epoch 71/100\n",
      "422/422 [==============================] - 4s 8ms/step - loss: 0.3139 - accuracy: 0.8681 - val_loss: 0.2871 - val_accuracy: 0.8810\n"
     ]
    },
    {
     "name": "stdout",
     "output_type": "stream",
     "text": [
      "Epoch 72/100\n",
      "422/422 [==============================] - 4s 8ms/step - loss: 0.3127 - accuracy: 0.8655 - val_loss: 0.2952 - val_accuracy: 0.8811\n",
      "Epoch 73/100\n",
      "422/422 [==============================] - 3s 8ms/step - loss: 0.3161 - accuracy: 0.8665 - val_loss: 0.2872 - val_accuracy: 0.8802\n",
      "Epoch 74/100\n",
      "422/422 [==============================] - 4s 8ms/step - loss: 0.3169 - accuracy: 0.8673 - val_loss: 0.2956 - val_accuracy: 0.8743\n",
      "Epoch 75/100\n",
      "422/422 [==============================] - 4s 8ms/step - loss: 0.3171 - accuracy: 0.8640 - val_loss: 0.2916 - val_accuracy: 0.8778\n",
      "Epoch 76/100\n",
      "422/422 [==============================] - 4s 8ms/step - loss: 0.3167 - accuracy: 0.8645 - val_loss: 0.2868 - val_accuracy: 0.8818\n",
      "Epoch 77/100\n",
      "422/422 [==============================] - 3s 8ms/step - loss: 0.3193 - accuracy: 0.8642 - val_loss: 0.2906 - val_accuracy: 0.8753\n",
      "Epoch 78/100\n",
      "422/422 [==============================] - 3s 8ms/step - loss: 0.3149 - accuracy: 0.8637 - val_loss: 0.2857 - val_accuracy: 0.8789\n",
      "Epoch 79/100\n",
      "422/422 [==============================] - 3s 8ms/step - loss: 0.3181 - accuracy: 0.8643 - val_loss: 0.2864 - val_accuracy: 0.8800\n",
      "Epoch 80/100\n",
      "422/422 [==============================] - 3s 8ms/step - loss: 0.3175 - accuracy: 0.8648 - val_loss: 0.2858 - val_accuracy: 0.8798\n",
      "Epoch 81/100\n",
      "422/422 [==============================] - 3s 8ms/step - loss: 0.3131 - accuracy: 0.8666 - val_loss: 0.2855 - val_accuracy: 0.8827\n",
      "Epoch 82/100\n",
      "422/422 [==============================] - 3s 8ms/step - loss: 0.3184 - accuracy: 0.8638 - val_loss: 0.2901 - val_accuracy: 0.8813\n",
      "Epoch 83/100\n",
      "422/422 [==============================] - 3s 8ms/step - loss: 0.3143 - accuracy: 0.8660 - val_loss: 0.2865 - val_accuracy: 0.8816\n",
      "Epoch 84/100\n",
      "422/422 [==============================] - 3s 8ms/step - loss: 0.3179 - accuracy: 0.8634 - val_loss: 0.2905 - val_accuracy: 0.8801\n",
      "Epoch 85/100\n",
      "422/422 [==============================] - 3s 8ms/step - loss: 0.3161 - accuracy: 0.8662 - val_loss: 0.2909 - val_accuracy: 0.8800\n",
      "Epoch 86/100\n",
      "422/422 [==============================] - 3s 8ms/step - loss: 0.3170 - accuracy: 0.8651 - val_loss: 0.2875 - val_accuracy: 0.8806\n",
      "Epoch 87/100\n",
      "422/422 [==============================] - 3s 8ms/step - loss: 0.3197 - accuracy: 0.8612 - val_loss: 0.2883 - val_accuracy: 0.8806\n",
      "Epoch 88/100\n",
      "422/422 [==============================] - 3s 8ms/step - loss: 0.3182 - accuracy: 0.8626 - val_loss: 0.2871 - val_accuracy: 0.8820\n",
      "Epoch 89/100\n",
      "422/422 [==============================] - 3s 8ms/step - loss: 0.3149 - accuracy: 0.8665 - val_loss: 0.2892 - val_accuracy: 0.8822\n",
      "Epoch 90/100\n",
      "422/422 [==============================] - 3s 8ms/step - loss: 0.3078 - accuracy: 0.8675 - val_loss: 0.2883 - val_accuracy: 0.8797\n",
      "Epoch 91/100\n",
      "422/422 [==============================] - 4s 9ms/step - loss: 0.3175 - accuracy: 0.8658 - val_loss: 0.2875 - val_accuracy: 0.8802\n",
      "Epoch 92/100\n",
      "422/422 [==============================] - 3s 8ms/step - loss: 0.3116 - accuracy: 0.8667 - val_loss: 0.2894 - val_accuracy: 0.8820\n",
      "Epoch 93/100\n",
      "422/422 [==============================] - 3s 8ms/step - loss: 0.3202 - accuracy: 0.8643 - val_loss: 0.2878 - val_accuracy: 0.8793\n",
      "Epoch 94/100\n",
      "422/422 [==============================] - 3s 8ms/step - loss: 0.3134 - accuracy: 0.8671 - val_loss: 0.2923 - val_accuracy: 0.8801\n",
      "Epoch 95/100\n",
      "422/422 [==============================] - 3s 8ms/step - loss: 0.3190 - accuracy: 0.8657 - val_loss: 0.2883 - val_accuracy: 0.8797\n",
      "Epoch 96/100\n",
      "422/422 [==============================] - 3s 8ms/step - loss: 0.3172 - accuracy: 0.8648 - val_loss: 0.2853 - val_accuracy: 0.8803\n",
      "Epoch 97/100\n",
      "422/422 [==============================] - 3s 8ms/step - loss: 0.3136 - accuracy: 0.8650 - val_loss: 0.2899 - val_accuracy: 0.8803\n",
      "Epoch 98/100\n",
      "422/422 [==============================] - 3s 8ms/step - loss: 0.3184 - accuracy: 0.8647 - val_loss: 0.2872 - val_accuracy: 0.8810\n",
      "Epoch 99/100\n",
      "422/422 [==============================] - 3s 8ms/step - loss: 0.3169 - accuracy: 0.8660 - val_loss: 0.2889 - val_accuracy: 0.8797\n",
      "Epoch 100/100\n",
      "422/422 [==============================] - 3s 8ms/step - loss: 0.3156 - accuracy: 0.8654 - val_loss: 0.2892 - val_accuracy: 0.8817\n"
     ]
    }
   ],
   "source": [
    "history = model.fit(x_train, y_train, epochs = 100, batch_size = 128, validation_data = (x_val,y_val))\n",
    "history_1 = model1.fit(x_train, y_train, epochs = 100, batch_size = 128, validation_data = (x_val,y_val))"
   ]
  },
  {
   "cell_type": "code",
   "execution_count": 81,
   "metadata": {},
   "outputs": [
    {
     "data": {
      "image/png": "[encoded data removed]",
      "text/plain": [
       "<Figure size 1152x720 with 1 Axes>"
      ]
     },
     "metadata": {
      "needs_background": "light"
     },
     "output_type": "display_data"
    }
   ],
   "source": [
    "import matplotlib.pylab as pylab\n",
    "\n",
    "params = {'legend.fontsize': 'x-large',\n",
    "         'axes.labelsize': 'x-large',\n",
    "         'axes.titlesize':'x-large',\n",
    "         'xtick.labelsize':'x-large',\n",
    "         'ytick.labelsize':'x-large'}\n",
    "pylab.rcParams.update(params)\n",
    "plt.figure(figsize=(16,10))\n",
    "plt.xlabel('Epochs',fontsize=20)\n",
    "plt.ylabel(\"Accuracy\",fontsize=20)\n",
    "val = plt.plot(history_1.epoch, history_1.history['val_'+'accuracy'],\n",
    "             label='My model')\n",
    "plt.plot(history.epoch, history.history['val_'+'accuracy'],\n",
    "             label='Imported model')\n",
    "plt.legend()\n",
    "plt.xlim([0,max(history_1.epoch)])\n",
    "plt.show()"
   ]
  },
  {
   "cell_type": "markdown",
   "metadata": {},
   "source": [
    "# Check agreement test"
   ]
  },
  {
   "cell_type": "code",
   "execution_count": 123,
   "metadata": {},
   "outputs": [
    {
     "name": "stdout",
     "output_type": "stream",
     "text": [
      "[0.1335563  0.00778783 0.30263552 ... 0.79727703 0.9761328  0.9687413 ]\n",
      "KS metric 0.1900190813022734 False\n"
     ]
    }
   ],
   "source": [
    "check_agreement = pandas.read_csv(folder + 'check_agreement.csv', index_col='id')\n",
    "check_agreement = add_features(check_agreement)\n",
    "agreement_probs = model.predict(check_agreement[variables_mod].to_numpy()).squeeze()\n",
    "print(agreement_probs)\n",
    "ks = evaluation.compute_ks(\n",
    "    agreement_probs[check_agreement['signal'].values == 0],\n",
    "    agreement_probs[check_agreement['signal'].values == 1],\n",
    "    check_agreement[check_agreement['signal'] == 0]['weight'].values,\n",
    "    check_agreement[check_agreement['signal'] == 1]['weight'].values)\n",
    "print('KS metric', ks, ks < 0.09)"
   ]
  },
  {
   "cell_type": "markdown",
   "metadata": {},
   "source": [
    "# Check correlation test"
   ]
  },
  {
   "cell_type": "code",
   "execution_count": 134,
   "metadata": {},
   "outputs": [
    {
     "name": "stdout",
     "output_type": "stream",
     "text": [
      "[0.01931227 0.10880692 0.22141731 ... 0.6481841  0.34362435 0.0247995 ]\n",
      "CvM metric 0.0010665308092605871 True\n"
     ]
    }
   ],
   "source": [
    "check_correlation = pandas.read_csv(folder + 'check_correlation.csv', index_col='id')\n",
    "check_correlation = add_features(check_correlation)\n",
    "correlation_probs = model.predict(check_correlation[variables_mod].to_numpy()).squeeze()\n",
    "#pd.DataFrame(correlation_probs,\n",
    "  #                 columns=[variables])\n",
    "print(correlation_probs)\n",
    "cvm = evaluation.compute_cvm(correlation_probs, check_correlation['mass'])\n",
    "print('CvM metric', cvm, cvm < 0.002)"
   ]
  },
  {
   "cell_type": "markdown",
   "metadata": {},
   "source": [
    "# Compute weighted AUC on the training data with min_ANNmuon > 0.4"
   ]
  },
  {
   "cell_type": "code",
   "execution_count": null,
   "metadata": {},
   "outputs": [],
   "source": [
    "train_eval = data[data['min_ANNmuon'] > 0.4]\n",
    "train_probs = model.predict(train_eval[variables_mod].to_numpy()).squeeze()\n",
    "AUC = sklearn.metrics.roc_auc_score(train_eval['signal'], train_probs)\n",
    "print('AUC', AUC)"
   ]
  },
  {
   "cell_type": "markdown",
   "metadata": {},
   "source": [
    "# Predict test, create file for kaggle"
   ]
  },
  {
   "cell_type": "code",
   "execution_count": 42,
   "metadata": {},
   "outputs": [],
   "source": [
    "result = pandas.DataFrame({'id': test.index})\n",
    "result['prediction'] = model.predict(test[variables].to_numpy()).squeeze()"
   ]
  },
  {
   "cell_type": "code",
   "execution_count": 43,
   "metadata": {},
   "outputs": [],
   "source": [
    "result.to_csv('submission.csv', index=False, sep=',')"
   ]
  },
  {
   "cell_type": "code",
   "execution_count": null,
   "metadata": {},
   "outputs": [],
   "source": [
    "!ls -l submission.csv"
   ]
  },
  {
   "cell_type": "code",
   "execution_count": null,
   "metadata": {},
   "outputs": [],
   "source": [
    "result.to_csv?"
   ]
  },
  {
   "cell_type": "code",
   "execution_count": null,
   "metadata": {},
   "outputs": [],
   "source": []
  }
 ],
 "metadata": {
  "kernelspec": {
   "display_name": "neural",
   "language": "python",
   "name": "neural"
  },
  "language_info": {
   "codemirror_mode": {
    "name": "ipython",
    "version": 3
   },
   "file_extension": ".py",
   "mimetype": "text/x-python",
   "name": "python",
   "nbconvert_exporter": "python",
   "pygments_lexer": "ipython3",
   "version": "3.8.7"
  }
 },
 "nbformat": 4,
 "nbformat_minor": 1
}
