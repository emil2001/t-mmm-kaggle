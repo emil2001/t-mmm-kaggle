{
 "cells": [
  {
   "cell_type": "markdown",
   "metadata": {},
   "source": [
    "# Import"
   ]
  },
  {
   "cell_type": "code",
   "execution_count": 1,
   "metadata": {},
   "outputs": [],
   "source": [
    "import pandas\n",
    "import sklearn\n",
    "import evaluation\n",
    "import tensorflow as tf\n",
    "import numpy as np\n",
    "import seaborn as sns\n",
    "import matplotlib.pyplot as plt"
   ]
  },
  {
   "cell_type": "code",
   "execution_count": 2,
   "metadata": {},
   "outputs": [
    {
     "name": "stdout",
     "output_type": "stream",
     "text": [
      "1 Physical GPUs, 1 Logical GPUs\n"
     ]
    }
   ],
   "source": [
    "GPU_fix = \"MemoryFix\" # Choose \"Disable\", \"MemoryFix\" or \"None\"\n",
    "\n",
    "if GPU_fix == \"Disable\":\n",
    "    try:\n",
    "        # Disable all GPUS\n",
    "        tf.config.set_visible_devices([], 'GPU')\n",
    "        visible_devices = tf.config.get_visible_devices()\n",
    "        for device in visible_devices:\n",
    "            assert device.device_type != 'GPU'\n",
    "    except:\n",
    "        # Invalid device or cannot modify virtual devices once initialized.\n",
    "        pass\n",
    "elif GPU_fix == \"MemoryFix\":\n",
    "    gpus = tf.config.experimental.list_physical_devices('GPU')\n",
    "    if gpus:\n",
    "        try:\n",
    "            # Currently, memory growth needs to be the same across GPUs\n",
    "            for gpu in gpus:\n",
    "                tf.config.experimental.set_memory_growth(gpu, True)\n",
    "            logical_gpus = tf.config.experimental.list_logical_devices('GPU')\n",
    "            print(len(gpus), \"Physical GPUs,\", len(logical_gpus), \"Logical GPUs\")\n",
    "        except RuntimeError as e:\n",
    "            # Memory growth must be set before GPUs have been initialized\n",
    "            print(e)"
   ]
  },
  {
   "cell_type": "markdown",
   "metadata": {},
   "source": [
    "# Read training data"
   ]
  },
  {
   "cell_type": "code",
   "execution_count": 5,
   "metadata": {},
   "outputs": [
    {
     "name": "stdout",
     "output_type": "stream",
     "text": [
      "Add features\n",
      "Eliminate features\n"
     ]
    }
   ],
   "source": [
    "# https://www.kaggle.com/sionek/ugbc-gs\n",
    "folder = 'tau_data/'\n",
    "data = pandas.read_csv(folder + 'training.csv', index_col='id')\n",
    "#--------------- feature engineering -------------- #\n",
    "def add_features(df):\n",
    "    # features used by the others on Kaggle\n",
    "    df['NEW_FD_SUMP']=df['FlightDistance']/(df['p0_p']+df['p1_p']+df['p2_p'])\n",
    "    df['NEW5_lt']=df['LifeTime']*(df['p0_IP']+df['p1_IP']+df['p2_IP'])/3\n",
    "    df['p_track_Chi2Dof_MAX'] = df.loc[:, ['p0_track_Chi2Dof', 'p1_track_Chi2Dof', 'p2_track_Chi2Dof']].max(axis=1)\n",
    "    #df['flight_dist_sig'] = df['FlightDistance']/df['FlightDistanceError'] # modified to:\n",
    "    df['flight_dist_sig2'] = (df['FlightDistance']/df['FlightDistanceError'])**2\n",
    "    # features from phunter\n",
    "    df['flight_dist_sig'] = df['FlightDistance']/df['FlightDistanceError']\n",
    "    df['NEW_IP_dira'] = df['IP']*df['dira']\n",
    "    df['p0p2_ip_ratio']=df['IP']/df['IP_p0p2']\n",
    "    df['p1p2_ip_ratio']=df['IP']/df['IP_p1p2']\n",
    "    df['DCA_MAX'] = df.loc[:, ['DOCAone', 'DOCAtwo', 'DOCAthree']].max(axis=1)\n",
    "    df['iso_bdt_min'] = df.loc[:, ['p0_IsoBDT', 'p1_IsoBDT', 'p2_IsoBDT']].min(axis=1)\n",
    "    df['iso_min'] = df.loc[:, ['isolationa', 'isolationb', 'isolationc','isolationd', 'isolatione', 'isolationf']].min(axis=1)\n",
    "    # My:\n",
    "    # new combined features just to minimize their number;\n",
    "    # their physical sense doesn't matter\n",
    "    df['NEW_iso_abc'] = df['isolationa']*df['isolationb']*df['isolationc']\n",
    "    df['NEW_iso_def'] = df['isolationd']*df['isolatione']*df['isolationf']\n",
    "    df['NEW_pN_IP'] = df['p0_IP']+df['p1_IP']+df['p2_IP']\n",
    "    df['NEW_pN_p']  = df['p0_p']+df['p1_p']+df['p2_p']\n",
    "    df['NEW_IP_pNpN'] = df['IP_p0p2']*df['IP_p1p2']\n",
    "    df['NEW_pN_IPSig'] = df['p0_IPSig']+df['p1_IPSig']+df['p2_IPSig']\n",
    "    #My:\n",
    "    # \"super\" feature changing the result from 0.988641 to 0.991099\n",
    "    df['NEW_FD_LT']=df['FlightDistance']/df['LifeTime']\n",
    "    return df\n",
    "\n",
    "print(\"Add features\")\n",
    "train_df = add_features(data)\n",
    "\n",
    "print(\"Eliminate features\")\n",
    "filter_out = ['id', 'min_ANNmuon', 'production', 'mass', 'signal',\n",
    "              'SPDhits','CDF1', 'CDF2', 'CDF3',\n",
    "              'isolationb', 'isolationc','p0_pt', 'p1_pt', 'p2_pt',\n",
    "              'p0_p', 'p1_p', 'p2_p', 'p0_eta', 'p1_eta', 'p2_eta',\n",
    "              'isolationa', 'isolationb', 'isolationc', 'isolationd', 'isolatione', 'isolationf',\n",
    "              'p0_IsoBDT', 'p1_IsoBDT', 'p2_IsoBDT',\n",
    "              'p0_IP', 'p1_IP', 'p2_IP',\n",
    "              'IP_p0p2', 'IP_p1p2',\n",
    "              'p0_track_Chi2Dof', 'p1_track_Chi2Dof', 'p2_track_Chi2Dof',\n",
    "              'p0_IPSig', 'p1_IPSig', 'p2_IPSig',\n",
    "              'DOCAone', 'DOCAtwo', 'DOCAthree']"
   ]
  },
  {
   "cell_type": "code",
   "execution_count": 7,
   "metadata": {},
   "outputs": [
    {
     "name": "stdout",
     "output_type": "stream",
     "text": [
      "28\n"
     ]
    }
   ],
   "source": [
    "#modified\n",
    "variables_mod = list(f for f in data.columns if f not in filter_out)\n",
    "print(len(variables_mod))"
   ]
  },
  {
   "cell_type": "code",
   "execution_count": 37,
   "metadata": {},
   "outputs": [],
   "source": [
    "train_df = data[variables_mod]"
   ]
  },
  {
   "cell_type": "code",
   "execution_count": 38,
   "metadata": {},
   "outputs": [],
   "source": [
    "msk = np.random.rand(len(train_df)) < 0.8\n",
    "train = train_df[msk]\n",
    "val = train_df[~msk]"
   ]
  },
  {
   "cell_type": "code",
   "execution_count": 39,
   "metadata": {},
   "outputs": [
    {
     "name": "stdout",
     "output_type": "stream",
     "text": [
      "validation samples: 13596\n",
      "train samples: 53956\n"
     ]
    }
   ],
   "source": [
    "print('validation samples:',len(val))\n",
    "print('train samples:',len(train))"
   ]
  },
  {
   "cell_type": "code",
   "execution_count": null,
   "metadata": {},
   "outputs": [],
   "source": [
    "plt.figure();\n",
    "df['DOCAone'].diff().hist(color=\"k\", alpha=0.5, bins=1000);"
   ]
  },
  {
   "cell_type": "code",
   "execution_count": null,
   "metadata": {},
   "outputs": [],
   "source": [
    "train_df['LifeTime'].describe()"
   ]
  },
  {
   "cell_type": "markdown",
   "metadata": {},
   "source": [
    "# Baseline training"
   ]
  },
  {
   "cell_type": "code",
   "execution_count": 40,
   "metadata": {},
   "outputs": [],
   "source": [
    "model = tf.keras.models.Sequential([\n",
    "  tf.keras.layers.InputLayer(len(variables_mod)),\n",
    "  tf.keras.layers.BatchNormalization(),\n",
    "  tf.keras.layers.Dropout(0.2),\n",
    "  tf.keras.layers.Dense(200, activation=tf.keras.layers.LeakyReLU(alpha=0.05)),\n",
    "  tf.keras.layers.Dropout(0.2),\n",
    "  tf.keras.layers.Dense(200, activation=tf.keras.layers.LeakyReLU(alpha=0.05)), \n",
    "  tf.keras.layers.Dropout(0.2),\n",
    "  tf.keras.layers.Dense(100, activation=tf.keras.layers.LeakyReLU(alpha=0.05)), \n",
    "  tf.keras.layers.Dropout(0.2),\n",
    "  tf.keras.layers.Dense(50, activation=tf.keras.layers.LeakyReLU(alpha=0.05)),  \n",
    "  tf.keras.layers.Dense(1, activation = tf.keras.activations.sigmoid)\n",
    "])\n",
    "model.compile(optimizer=tf.keras.optimizers.Adam(learning_rate=0.005),\n",
    "              loss = tf.keras.losses.BinaryCrossentropy(),\n",
    "              metrics=['accuracy'])"
   ]
  },
  {
   "cell_type": "code",
   "execution_count": null,
   "metadata": {},
   "outputs": [],
   "source": [
    "df_std = train_df.melt(var_name='Column', value_name='Normalized')\n",
    "plt.figure(figsize=(12, 6))\n",
    "ax = sns.violinplot(x='Column', y='Normalized', data=df_std)\n",
    "_ = ax.set_xticklabels(df.keys(), rotation=90)"
   ]
  },
  {
   "cell_type": "code",
   "execution_count": null,
   "metadata": {},
   "outputs": [],
   "source": [
    "a = train_df[\"DOCAone\"].to_numpy()\n",
    "print(a.max())"
   ]
  },
  {
   "cell_type": "code",
   "execution_count": null,
   "metadata": {},
   "outputs": [],
   "source": [
    "train_df[train_df[\"DOCAone\"] > 20]"
   ]
  },
  {
   "cell_type": "code",
   "execution_count": 41,
   "metadata": {},
   "outputs": [],
   "source": [
    "#Create training arrays\n",
    "x_train = train.to_numpy()\n",
    "y_train = data['signal'][msk].to_numpy()\n",
    "y_train = np.expand_dims(y_train,1)\n",
    "x_val = val.to_numpy()\n",
    "y_val = data['signal'][~msk].to_numpy()\n",
    "y_val = np.expand_dims(y_val,1)"
   ]
  },
  {
   "cell_type": "code",
   "execution_count": 42,
   "metadata": {},
   "outputs": [],
   "source": [
    "from sklearn.utils import shuffle\n",
    "x_train, y_train = shuffle(x_train, y_train, random_state=0)"
   ]
  },
  {
   "cell_type": "code",
   "execution_count": 45,
   "metadata": {},
   "outputs": [],
   "source": [
    "history = model.fit(x_train, y_train, epochs=5, batch_size = 64, validation_data = (x_val,y_val), verbose = 0)"
   ]
  },
  {
   "cell_type": "code",
   "execution_count": 46,
   "metadata": {},
   "outputs": [
    {
     "data": {
      "image/png": "[encoded data removed]",
      "text/plain": [
       "<Figure size 1152x720 with 1 Axes>"
      ]
     },
     "metadata": {
      "needs_background": "light"
     },
     "output_type": "display_data"
    }
   ],
   "source": [
    "plt.figure(figsize=(16,10))\n",
    "plt.xlabel('Epochs')\n",
    "plt.ylabel(\"Accuracy\")\n",
    "val = plt.plot(history.epoch, history.history['val_'+'accuracy'],\n",
    "                   '--', label='Modified variables')\n",
    "#plt.plot(history_mod.epoch, history_mod.history['val_'+'accuracy'], color=val[0].get_color(),\n",
    "             #label='Modified variables')\n",
    "plt.legend()\n",
    "plt.xlim([0,max(history.epoch)])\n",
    "plt.show()"
   ]
  },
  {
   "cell_type": "markdown",
   "metadata": {},
   "source": [
    "# Check agreement test"
   ]
  },
  {
   "cell_type": "code",
   "execution_count": 47,
   "metadata": {},
   "outputs": [
    {
     "name": "stdout",
     "output_type": "stream",
     "text": [
      "[0.20222375 0.02341378 0.47744298 ... 0.9305945  0.998007   0.9957281 ]\n",
      "KS metric 0.08048045651076902 True\n"
     ]
    }
   ],
   "source": [
    "check_agreement = pandas.read_csv(folder + 'check_agreement.csv', index_col='id')\n",
    "check_agreement = add_features(check_agreement)\n",
    "agreement_probs = model.predict(check_agreement[variables_mod].to_numpy()).squeeze()\n",
    "print(agreement_probs)\n",
    "ks = evaluation.compute_ks(\n",
    "    agreement_probs[check_agreement['signal'].values == 0],\n",
    "    agreement_probs[check_agreement['signal'].values == 1],\n",
    "    check_agreement[check_agreement['signal'] == 0]['weight'].values,\n",
    "    check_agreement[check_agreement['signal'] == 1]['weight'].values)\n",
    "print('KS metric', ks, ks < 0.09)"
   ]
  },
  {
   "cell_type": "markdown",
   "metadata": {},
   "source": [
    "# Check correlation test"
   ]
  },
  {
   "cell_type": "code",
   "execution_count": 48,
   "metadata": {},
   "outputs": [
    {
     "name": "stdout",
     "output_type": "stream",
     "text": [
      "[0.03107161 0.09443697 0.34269217 ... 0.67971605 0.36630565 0.02601336]\n",
      "CvM metric 0.0010396338097062598 True\n"
     ]
    }
   ],
   "source": [
    "check_correlation = pandas.read_csv(folder + 'check_correlation.csv', index_col='id')\n",
    "check_correlation = add_features(check_correlation)\n",
    "correlation_probs = model.predict(check_correlation[variables_mod].to_numpy()).squeeze()\n",
    "#pd.DataFrame(correlation_probs,\n",
    "  #                 columns=[variables])\n",
    "print(correlation_probs)\n",
    "cvm = evaluation.compute_cvm(correlation_probs, check_correlation['mass'])\n",
    "print('CvM metric', cvm, cvm < 0.002)"
   ]
  },
  {
   "cell_type": "markdown",
   "metadata": {},
   "source": [
    "# Compute weighted AUC on the training data with min_ANNmuon > 0.4"
   ]
  },
  {
   "cell_type": "code",
   "execution_count": 49,
   "metadata": {},
   "outputs": [
    {
     "name": "stdout",
     "output_type": "stream",
     "text": [
      "AUC 0.9202100153996597\n"
     ]
    }
   ],
   "source": [
    "train_eval = data[data['min_ANNmuon'] > 0.4]\n",
    "train_probs = model.predict(train_eval[variables_mod].to_numpy()).squeeze()\n",
    "AUC = sklearn.metrics.roc_auc_score(train_eval['signal'], train_probs)\n",
    "print('AUC', AUC)"
   ]
  },
  {
   "cell_type": "markdown",
   "metadata": {},
   "source": [
    "# Predict test, create file for kaggle"
   ]
  },
  {
   "cell_type": "code",
   "execution_count": 42,
   "metadata": {},
   "outputs": [],
   "source": [
    "result = pandas.DataFrame({'id': test.index})\n",
    "result['prediction'] = model.predict(test[variables].to_numpy()).squeeze()"
   ]
  },
  {
   "cell_type": "code",
   "execution_count": 43,
   "metadata": {},
   "outputs": [],
   "source": [
    "result.to_csv('submission.csv', index=False, sep=',')"
   ]
  },
  {
   "cell_type": "code",
   "execution_count": null,
   "metadata": {},
   "outputs": [],
   "source": [
    "!ls -l submission.csv"
   ]
  },
  {
   "cell_type": "code",
   "execution_count": null,
   "metadata": {},
   "outputs": [],
   "source": [
    "result.to_csv?"
   ]
  },
  {
   "cell_type": "code",
   "execution_count": null,
   "metadata": {},
   "outputs": [],
   "source": []
  }
 ],
 "metadata": {
  "kernelspec": {
   "display_name": "neural",
   "language": "python",
   "name": "neural"
  },
  "language_info": {
   "codemirror_mode": {
    "name": "ipython",
    "version": 3
   },
   "file_extension": ".py",
   "mimetype": "text/x-python",
   "name": "python",
   "nbconvert_exporter": "python",
   "pygments_lexer": "ipython3",
   "version": "3.8.7"
  }
 },
 "nbformat": 4,
 "nbformat_minor": 1
}
