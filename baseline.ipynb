{
 "cells": [
  {
   "cell_type": "markdown",
   "metadata": {},
   "source": [
    "# Import"
   ]
  },
  {
   "cell_type": "code",
   "execution_count": null,
   "metadata": {},
   "outputs": [],
   "source": [
    "import pandas\n",
    "import sklearn\n",
    "import evaluation\n",
    "import tensorflow as tf\n",
    "import numpy as np\n",
    "import seaborn as sns\n",
    "import matplotlib.pyplot as plt\n",
    "from sklearn.preprocessing import StandardScaler"
   ]
  },
  {
   "cell_type": "code",
   "execution_count": null,
   "metadata": {},
   "outputs": [],
   "source": [
    "GPU_fix = \"MemoryFix\" # Choose \"Disable\", \"MemoryFix\" or \"None\"\n",
    "\n",
    "if GPU_fix == \"Disable\":\n",
    "    try:\n",
    "        # Disable all GPUS\n",
    "        tf.config.set_visible_devices([], 'GPU')\n",
    "        visible_devices = tf.config.get_visible_devices()\n",
    "        for device in visible_devices:\n",
    "            assert device.device_type != 'GPU'\n",
    "    except:\n",
    "        # Invalid device or cannot modify virtual devices once initialized.\n",
    "        pass\n",
    "elif GPU_fix == \"MemoryFix\":\n",
    "    gpus = tf.config.experimental.list_physical_devices('GPU')\n",
    "    if gpus:\n",
    "        try:\n",
    "            # Currently, memory growth needs to be the same across GPUs\n",
    "            for gpu in gpus:\n",
    "                tf.config.experimental.set_memory_growth(gpu, True)\n",
    "            logical_gpus = tf.config.experimental.list_logical_devices('GPU')\n",
    "            print(len(gpus), \"Physical GPUs,\", len(logical_gpus), \"Logical GPUs\")\n",
    "        except RuntimeError as e:\n",
    "            # Memory growth must be set before GPUs have been initialized\n",
    "            print(e)"
   ]
  },
  {
   "cell_type": "markdown",
   "metadata": {},
   "source": [
    "# Read training data"
   ]
  },
  {
   "cell_type": "code",
   "execution_count": 94,
   "metadata": {},
   "outputs": [
    {
     "name": "stdout",
     "output_type": "stream",
     "text": [
      "Add features\n",
      "Eliminate features\n"
     ]
    }
   ],
   "source": [
    "# https://www.kaggle.com/sionek/ugbc-gs\n",
    "folder = 'tau_data/'\n",
    "data = pandas.read_csv(folder + 'training.csv.zip', index_col='id')\n",
    "#--------------- feature engineering -------------- #\n",
    "def add_features(df):\n",
    "    # features used by the others on Kaggle\n",
    "    df['NEW_FD_SUMP']=df['FlightDistance']/(df['p0_p']+df['p1_p']+df['p2_p'])\n",
    "    df['NEW5_lt']=df['LifeTime']*(df['p0_IP']+df['p1_IP']+df['p2_IP'])/3\n",
    "    df['p_track_Chi2Dof_MAX'] = df.loc[:, ['p0_track_Chi2Dof', 'p1_track_Chi2Dof', 'p2_track_Chi2Dof']].max(axis=1)\n",
    "    #df['flight_dist_sig'] = df['FlightDistance']/df['FlightDistanceError'] # modified to:\n",
    "    df['flight_dist_sig2'] = (df['FlightDistance']/df['FlightDistanceError'])**2\n",
    "    # features from phunter\n",
    "    df['flight_dist_sig'] = df['FlightDistance']/df['FlightDistanceError']\n",
    "    df['NEW_IP_dira'] = df['IP']*df['dira']\n",
    "    df['p0p2_ip_ratio']=df['IP']/df['IP_p0p2']\n",
    "    df['p1p2_ip_ratio']=df['IP']/df['IP_p1p2']\n",
    "    df['DCA_MAX'] = df.loc[:, ['DOCAone', 'DOCAtwo', 'DOCAthree']].max(axis=1)\n",
    "    df['iso_bdt_min'] = df.loc[:, ['p0_IsoBDT', 'p1_IsoBDT', 'p2_IsoBDT']].min(axis=1)\n",
    "    df['iso_min'] = df.loc[:, ['isolationa', 'isolationb', 'isolationc','isolationd', 'isolatione', 'isolationf']].min(axis=1)\n",
    "    # My:\n",
    "    # new combined features just to minimize their number;\n",
    "    # their physical sense doesn't matter\n",
    "    df['NEW_iso_abc'] = df['isolationa']*df['isolationb']*df['isolationc']\n",
    "    df['NEW_iso_def'] = df['isolationd']*df['isolatione']*df['isolationf']\n",
    "    df['NEW_pN_IP'] = df['p0_IP']+df['p1_IP']+df['p2_IP']\n",
    "    df['NEW_pN_p']  = df['p0_p']+df['p1_p']+df['p2_p']\n",
    "    df['NEW_IP_pNpN'] = df['IP_p0p2']*df['IP_p1p2']\n",
    "    df['NEW_pN_IPSig'] = df['p0_IPSig']+df['p1_IPSig']+df['p2_IPSig']\n",
    "    #My:\n",
    "    # \"super\" feature changing the result from 0.988641 to 0.991099\n",
    "    df['NEW_FD_LT']=df['FlightDistance']/df['LifeTime']\n",
    "    return df\n",
    "\n",
    "print(\"Add features\")\n",
    "train_df = add_features(data)\n",
    "\n",
    "print(\"Eliminate features\")\n",
    "filter_out = ['id', 'min_ANNmuon', 'production', 'mass', 'signal',\n",
    "              'SPDhits','CDF1', 'CDF2', 'CDF3',\n",
    "              'p0_pt', 'p1_pt', 'p2_pt',\n",
    "              'p0_p', 'p1_p', 'p2_p', 'p0_eta', 'p1_eta', 'p2_eta',\n",
    "              'isolationa', 'isolationb', 'isolationc', 'isolationd', 'isolatione', 'isolationf',\n",
    "              'p0_IsoBDT', 'p1_IsoBDT', 'p2_IsoBDT',\n",
    "              'p0_IP', 'p1_IP', 'p2_IP',\n",
    "              'IP_p0p2', 'IP_p1p2',\n",
    "              'p0_track_Chi2Dof', 'p1_track_Chi2Dof', 'p2_track_Chi2Dof',\n",
    "              'p0_IPSig', 'p1_IPSig', 'p2_IPSig',\n",
    "              'DOCAone', 'DOCAtwo', 'DOCAthree']"
   ]
  },
  {
   "cell_type": "code",
   "execution_count": null,
   "metadata": {},
   "outputs": [],
   "source": [
    "import featuretools as ft\n",
    "data = pandas.read_csv(folder + 'training.csv.zip')\n",
    "es = ft.EntitySet(id='data')\n",
    "es.entity_from_dataframe(entity_id = 'df', dataframe = data, index = 'id')\n",
    "print(es)"
   ]
  },
  {
   "cell_type": "code",
   "execution_count": null,
   "metadata": {},
   "outputs": [],
   "source": [
    "feature_matrix, feature_names = ft.dfs(entityset=es, \n",
    "target_entity = 'df', \n",
    "max_depth = 1, \n",
    "verbose = 1, \n",
    "n_jobs = 3,\n",
    "trans_primitives = ['add_numeric', 'multiply_numeric'])"
   ]
  },
  {
   "cell_type": "code",
   "execution_count": null,
   "metadata": {},
   "outputs": [],
   "source": [
    "feature_matrix.columns"
   ]
  },
  {
   "cell_type": "code",
   "execution_count": null,
   "metadata": {},
   "outputs": [],
   "source": [
    "def preprocess_data(X, scaler=None):\n",
    "    if not scaler:\n",
    "        scaler = StandardScaler()\n",
    "        scaler.fit(X)\n",
    "    X = scaler.transform(X)\n",
    "    return X"
   ]
  },
  {
   "cell_type": "code",
   "execution_count": 95,
   "metadata": {},
   "outputs": [
    {
     "name": "stdout",
     "output_type": "stream",
     "text": [
      "28\n"
     ]
    }
   ],
   "source": [
    "#modified\n",
    "variables_mod = list(f for f in data.columns if f not in filter_out)\n",
    "print(len(variables_mod))"
   ]
  },
  {
   "cell_type": "code",
   "execution_count": 96,
   "metadata": {},
   "outputs": [
    {
     "name": "stdout",
     "output_type": "stream",
     "text": [
      "25879\n"
     ]
    }
   ],
   "source": [
    "print(len([i for i in train_df['signal'].to_numpy() if i == 0]))\n",
    "train_df = data[variables_mod]\n",
    "#train_df = preprocess_data(train_df)"
   ]
  },
  {
   "cell_type": "code",
   "execution_count": 97,
   "metadata": {},
   "outputs": [],
   "source": [
    "msk = np.random.rand(len(train_df)) < 0.8\n",
    "train = train_df[msk]\n",
    "val = train_df[~msk]"
   ]
  },
  {
   "cell_type": "code",
   "execution_count": 98,
   "metadata": {},
   "outputs": [
    {
     "name": "stdout",
     "output_type": "stream",
     "text": [
      "validation samples: 13645\n",
      "train samples: 53908\n"
     ]
    }
   ],
   "source": [
    "print('validation samples:',len(val))\n",
    "print('train samples:',len(train))"
   ]
  },
  {
   "cell_type": "markdown",
   "metadata": {},
   "source": [
    "# Baseline training"
   ]
  },
  {
   "cell_type": "code",
   "execution_count": 99,
   "metadata": {},
   "outputs": [],
   "source": [
    "#Create training arrays\n",
    "x_train = train\n",
    "y_train = data['signal'][msk].to_numpy()\n",
    "y_train = np.expand_dims(y_train,1)\n",
    "x_val = val\n",
    "y_val = data['signal'][~msk].to_numpy()\n",
    "y_val = np.expand_dims(y_val,1)"
   ]
  },
  {
   "cell_type": "code",
   "execution_count": null,
   "metadata": {},
   "outputs": [],
   "source": [
    "check_agreement = pandas.read_csv(folder + 'check_agreement.csv.zip', index_col='id')\n",
    "check_agreement = add_features(check_agreement)\n",
    "check_agreement1 = check_agreement[variables_mod].to_numpy()\n"
   ]
  },
  {
   "cell_type": "code",
   "execution_count": null,
   "metadata": {},
   "outputs": [],
   "source": [
    "check_correlation = pandas.read_csv(folder + 'check_correlation.csv.zip', index_col='id')\n",
    "check_correlation = add_features(check_correlation)\n",
    "check_correlation1 = check_correlation[variables_mod].to_numpy()\n"
   ]
  },
  {
   "cell_type": "code",
   "execution_count": 132,
   "metadata": {},
   "outputs": [],
   "source": [
    "\n",
    "def my_loss(y_true, y_pred):\n",
    "    bce = tf.keras.losses.BinaryCrossentropy()\n",
    "    agreement_probs = model1.predict(check_agreement1).squeeze()\n",
    "    ks = evaluation.compute_ks(\n",
    "        agreement_probs[check_agreement['signal'].values == 0],\n",
    "        agreement_probs[check_agreement['signal'].values == 1],\n",
    "        check_agreement[check_agreement['signal'] == 0]['weight'].values,\n",
    "        check_agreement[check_agreement['signal'] == 1]['weight'].values)\n",
    "    correlation_probs = model1.predict(check_correlation1).squeeze()\n",
    "    cvm = evaluation.compute_cvm(correlation_probs, check_correlation['mass'])\n",
    "    return bce(y_true, y_pred) + exp(ks) + 10*exp(cvm)"
   ]
  },
  {
   "cell_type": "code",
   "execution_count": 134,
   "metadata": {},
   "outputs": [],
   "source": [
    "import tensorflow as tf\n",
    "\n",
    "class MyModel(tf.keras.Model):\n",
    "\n",
    "  def __init__(self):\n",
    "    super(MyModel, self).__init__()\n",
    "    #self.inputs = tf.keras.layers.InputLayer(len(variables_mod))\n",
    "    self.bnorm1 = tf.keras.layers.BatchNormalization()\n",
    "    self.bnorm2 = tf.keras.layers.BatchNormalization()\n",
    "    self.bnorm3 = tf.keras.layers.BatchNormalization()\n",
    "    self.bnorm4 = tf.keras.layers.BatchNormalization()\n",
    "    self.dropout1 = tf.keras.layers.Dropout(0.3)\n",
    "    self.dropout2 = tf.keras.layers.Dropout(0.3)\n",
    "    self.dropout3 = tf.keras.layers.Dropout(0.3)\n",
    "    self.dropout4 = tf.keras.layers.Dropout(0.3)\n",
    "    self.dense1 = tf.keras.layers.Dense(200, activation=tf.keras.layers.LeakyReLU(alpha=0.2))\n",
    "    self.dense2 = tf.keras.layers.Dense(200, activation=tf.keras.layers.LeakyReLU(alpha=0.2))\n",
    "    self.dense3 = tf.keras.layers.Dense(100, activation=tf.keras.layers.LeakyReLU(alpha=0.2))\n",
    "    self.dense4 = tf.keras.layers.Dense(50, activation=tf.keras.layers.LeakyReLU(alpha=0.2))\n",
    "    self.dense5 = tf.keras.layers.Dense(1, activation = tf.keras.activations.sigmoid)\n",
    "\n",
    "  def call(self, inputs):\n",
    "    #x = self.inputs(inputs)\n",
    "    x = self.bnorm1(inputs)\n",
    "    x = self.dropout1(x)\n",
    "    x = self.dense1(x)\n",
    "    x = self.bnorm2(x)\n",
    "    x = self.dropout2(x)\n",
    "    x = self.dense2(x)\n",
    "    x = self.bnorm3(x)\n",
    "    x = self.dropout3(x)\n",
    "    x = self.dense3(x)\n",
    "    x = self.bnorm4(x)\n",
    "    x = self.dropout4(x)\n",
    "    x = self.dense4(x)\n",
    "    bce = tf.keras.losses.BinaryCrossentropy()\n",
    "    agreement_probs = self.predict(check_agreement1).squeeze()\n",
    "    ks = evaluation.compute_ks(\n",
    "        agreement_probs[check_agreement['signal'].values == 0],\n",
    "        agreement_probs[check_agreement['signal'].values == 1],\n",
    "        check_agreement[check_agreement['signal'] == 0]['weight'].values,\n",
    "        check_agreement[check_agreement['signal'] == 1]['weight'].values)\n",
    "    correlation_probs = self.predict(check_correlation1).squeeze()\n",
    "    cvm = evaluation.compute_cvm(correlation_probs, check_correlation['mass'])\n",
    "    loss = bce(y_true, y_pred) + exp(ks) + 10*exp(cvm)\n",
    "    self.add_loss(self)\n",
    "    return self.dense5(x)\n",
    "\n",
    "model = MyModel()\n",
    "\n",
    "model.compile( optimizer=tf.keras.optimizers.Adam(learning_rate=0.001),metrics=['accuracy'])\n",
    "#model.build(input_shape = (len(variables_mod),1))\n",
    "#model.summary()\n"
   ]
  },
  {
   "cell_type": "markdown",
   "metadata": {},
   "source": [
    "Подключение LR Scheduler"
   ]
  },
  {
   "cell_type": "code",
   "execution_count": 143,
   "metadata": {},
   "outputs": [],
   "source": [
    "def scheduler(epoch, lr):\n",
    "    if epoch % 300 != 0:\n",
    "        return lr\n",
    "    else:\n",
    "        return lr/5"
   ]
  },
  {
   "cell_type": "markdown",
   "metadata": {},
   "source": [
    "Создание тюнера"
   ]
  },
  {
   "cell_type": "code",
   "execution_count": null,
   "metadata": {},
   "outputs": [],
   "source": [
    "from kerastuner.tuners import RandomSearch\n",
    "def build_model(hp):\n",
    "    model = tf.keras.models.Sequential()\n",
    "    model.add(tf.keras.layers.Input(shape=len(variables_mod)))\n",
    "    model.add(tf.keras.layers.BatchNormalization())\n",
    "    for i in range(hp.Int('num_layers', 2, 5)):\n",
    "        model.add(tf.keras.layers.Dense(units=hp.Int('units_' + str(i),\n",
    "                                            min_value=10,\n",
    "                                            max_value=200,\n",
    "                                            step=10),\n",
    "                               activation=tf.keras.layers.LeakyReLU(alpha=0.1)))\n",
    "        model.add(tf.keras.layers.BatchNormalization())\n",
    "    model.add(tf.keras.layers.Dense(1, activation='sigmoid'))\n",
    "    model.compile(\n",
    "        optimizer=tf.keras.optimizers.Adam(\n",
    "            hp.Choice('learning_rate', [1e-2, 1e-3, 1e-4])),\n",
    "        loss='BinaryCrossentropy',\n",
    "        metrics=['accuracy'])\n",
    "    return model\n",
    "\n",
    "\n",
    "tuner = RandomSearch(\n",
    "    build_model,\n",
    "    objective='val_accuracy',\n",
    "    max_trials=20,\n",
    "    executions_per_trial=2,\n",
    "    directory='tuner1',\n",
    "    project_name='ttt')"
   ]
  },
  {
   "cell_type": "code",
   "execution_count": null,
   "metadata": {},
   "outputs": [],
   "source": [
    "tuner.search(x_train, y_train,\n",
    "             epochs=100,\n",
    "             validation_data=(x_val, y_val), batch_size = 128)"
   ]
  },
  {
   "cell_type": "code",
   "execution_count": null,
   "metadata": {},
   "outputs": [],
   "source": [
    "tuner.results_summary()"
   ]
  },
  {
   "cell_type": "code",
   "execution_count": null,
   "metadata": {
    "scrolled": true
   },
   "outputs": [],
   "source": [
    "model_tuned = tuner.get_best_models(num_models=1)[0]"
   ]
  },
  {
   "cell_type": "code",
   "execution_count": null,
   "metadata": {},
   "outputs": [],
   "source": []
  },
  {
   "cell_type": "code",
   "execution_count": 144,
   "metadata": {},
   "outputs": [],
   "source": [
    "model1 = tf.keras.models.Sequential([\n",
    "  tf.keras.layers.InputLayer(len(variables_mod)),\n",
    "  tf.keras.layers.BatchNormalization(),\n",
    "  tf.keras.layers.Dropout(0.3),\n",
    "  tf.keras.layers.Dense(200, activation=tf.keras.layers.LeakyReLU(alpha=0.2)),\n",
    "  tf.keras.layers.BatchNormalization(),\n",
    "  tf.keras.layers.Dropout(0.3),\n",
    "  tf.keras.layers.Dense(200, activation=tf.keras.layers.LeakyReLU(alpha=0.2)), \n",
    "  tf.keras.layers.BatchNormalization(),\n",
    "  tf.keras.layers.Dropout(0.3),\n",
    "  tf.keras.layers.Dense(100, activation=tf.keras.layers.LeakyReLU(alpha=0.2)), \n",
    "  tf.keras.layers.BatchNormalization(),\n",
    "  tf.keras.layers.Dropout(0.3),\n",
    "  tf.keras.layers.Dense(50, activation=tf.keras.layers.LeakyReLU(alpha=0.2)),  \n",
    "  tf.keras.layers.Dense(1, activation = tf.keras.activations.sigmoid)\n",
    "])\n",
    "model1.compile(optimizer=tf.keras.optimizers.Adam(learning_rate=0.001),\n",
    "              loss = tf.keras.losses.BinaryCrossentropy(),\n",
    "              metrics=['accuracy'])"
   ]
  },
  {
   "cell_type": "code",
   "execution_count": null,
   "metadata": {},
   "outputs": [],
   "source": [
    "from tensorflow.keras.models import Sequential\n",
    "from tensorflow.keras.layers import Dense, Activation, Dropout, Input\n",
    "from tensorflow.keras.layers import PReLU\n",
    "model = Sequential()\n",
    "model.add(Input(shape=len(variables_mod)))\n",
    "model.add(tf.keras.layers.BatchNormalization())\n",
    "model.add(Dropout(0.15))\n",
    "model.add(Dense(75))\n",
    "model.add(PReLU())\n",
    "\n",
    "model.add(Dropout(0.13))\n",
    "model.add(Dense(60))\n",
    "model.add(PReLU())\n",
    "\n",
    "model.add(Dropout(0.11))\n",
    "model.add(Dense(45))\n",
    "model.add(PReLU())\n",
    "\n",
    "model.add(Dropout(0.09))\n",
    "model.add(Dense(30))\n",
    "model.add(PReLU())\n",
    "\n",
    "model.add(Dropout(0.07))\n",
    "model.add(Dense(15))\n",
    "model.add(PReLU())\n",
    "\n",
    "model.add(Dense(1))\n",
    "model.add(Activation('sigmoid'))\n",
    "model.compile(loss='BinaryCrossentropy', optimizer='rmsprop',metrics=['accuracy'])"
   ]
  },
  {
   "cell_type": "code",
   "execution_count": 100,
   "metadata": {},
   "outputs": [],
   "source": [
    "from sklearn.utils import shuffle\n",
    "x_train, y_train = shuffle(x_train, y_train, random_state=0)"
   ]
  },
  {
   "cell_type": "code",
   "execution_count": null,
   "metadata": {},
   "outputs": [
    {
     "name": "stdout",
     "output_type": "stream",
     "text": [
      "Epoch 1/1000\n",
      "422/422 [==============================] - 2s 4ms/step - loss: 0.4158 - accuracy: 0.8164 - val_loss: 0.3465 - val_accuracy: 0.8518\n",
      "Epoch 2/1000\n",
      "422/422 [==============================] - 2s 4ms/step - loss: 0.3892 - accuracy: 0.8286 - val_loss: 0.3377 - val_accuracy: 0.8554\n",
      "Epoch 3/1000\n",
      "422/422 [==============================] - 2s 4ms/step - loss: 0.3846 - accuracy: 0.8325 - val_loss: 0.3385 - val_accuracy: 0.8538\n",
      "Epoch 4/1000\n",
      "422/422 [==============================] - 2s 4ms/step - loss: 0.3795 - accuracy: 0.8334 - val_loss: 0.3346 - val_accuracy: 0.8578\n",
      "Epoch 5/1000\n",
      "422/422 [==============================] - 2s 4ms/step - loss: 0.3782 - accuracy: 0.8339 - val_loss: 0.3329 - val_accuracy: 0.8557\n",
      "Epoch 6/1000\n",
      "422/422 [==============================] - 2s 4ms/step - loss: 0.3769 - accuracy: 0.8353 - val_loss: 0.3290 - val_accuracy: 0.8587\n",
      "Epoch 7/1000\n",
      "422/422 [==============================] - 2s 4ms/step - loss: 0.3743 - accuracy: 0.8377 - val_loss: 0.3294 - val_accuracy: 0.8574\n",
      "Epoch 8/1000\n",
      "422/422 [==============================] - 2s 4ms/step - loss: 0.3712 - accuracy: 0.8374 - val_loss: 0.3360 - val_accuracy: 0.8543\n",
      "Epoch 9/1000\n",
      "422/422 [==============================] - 2s 4ms/step - loss: 0.3700 - accuracy: 0.8364 - val_loss: 0.3346 - val_accuracy: 0.8542\n",
      "Epoch 10/1000\n",
      "422/422 [==============================] - 2s 4ms/step - loss: 0.3704 - accuracy: 0.8372 - val_loss: 0.3281 - val_accuracy: 0.8592\n",
      "Epoch 11/1000\n",
      "422/422 [==============================] - 2s 4ms/step - loss: 0.3695 - accuracy: 0.8391 - val_loss: 0.3316 - val_accuracy: 0.8590\n",
      "Epoch 12/1000\n",
      "422/422 [==============================] - 2s 4ms/step - loss: 0.3688 - accuracy: 0.8410 - val_loss: 0.3342 - val_accuracy: 0.8588\n",
      "Epoch 13/1000\n",
      "422/422 [==============================] - 2s 4ms/step - loss: 0.3709 - accuracy: 0.8366 - val_loss: 0.3283 - val_accuracy: 0.8601\n",
      "Epoch 14/1000\n",
      "422/422 [==============================] - 2s 4ms/step - loss: 0.3678 - accuracy: 0.8381 - val_loss: 0.3279 - val_accuracy: 0.8582\n",
      "Epoch 15/1000\n",
      "422/422 [==============================] - 2s 4ms/step - loss: 0.3688 - accuracy: 0.8391 - val_loss: 0.3312 - val_accuracy: 0.8602\n",
      "Epoch 16/1000\n",
      "422/422 [==============================] - 2s 4ms/step - loss: 0.3688 - accuracy: 0.8395 - val_loss: 0.3267 - val_accuracy: 0.8587\n",
      "Epoch 17/1000\n",
      "422/422 [==============================] - 2s 4ms/step - loss: 0.3673 - accuracy: 0.8404 - val_loss: 0.3344 - val_accuracy: 0.8602\n",
      "Epoch 18/1000\n",
      "422/422 [==============================] - 2s 4ms/step - loss: 0.3665 - accuracy: 0.8397 - val_loss: 0.3287 - val_accuracy: 0.8608\n",
      "Epoch 19/1000\n",
      "422/422 [==============================] - 2s 4ms/step - loss: 0.3654 - accuracy: 0.8415 - val_loss: 0.3267 - val_accuracy: 0.8618\n",
      "Epoch 20/1000\n",
      "422/422 [==============================] - 2s 4ms/step - loss: 0.3662 - accuracy: 0.8385 - val_loss: 0.3284 - val_accuracy: 0.8623\n",
      "Epoch 21/1000\n",
      "422/422 [==============================] - 2s 4ms/step - loss: 0.3676 - accuracy: 0.8400 - val_loss: 0.3262 - val_accuracy: 0.8613\n",
      "Epoch 22/1000\n",
      "422/422 [==============================] - 2s 4ms/step - loss: 0.3656 - accuracy: 0.8421 - val_loss: 0.3304 - val_accuracy: 0.8616\n",
      "Epoch 23/1000\n",
      "422/422 [==============================] - 2s 4ms/step - loss: 0.3640 - accuracy: 0.8420 - val_loss: 0.3310 - val_accuracy: 0.8601\n",
      "Epoch 24/1000\n",
      "422/422 [==============================] - 2s 4ms/step - loss: 0.3646 - accuracy: 0.8417 - val_loss: 0.3275 - val_accuracy: 0.8617\n",
      "Epoch 25/1000\n",
      "422/422 [==============================] - 2s 4ms/step - loss: 0.3645 - accuracy: 0.8402 - val_loss: 0.3273 - val_accuracy: 0.8609\n",
      "Epoch 26/1000\n",
      "422/422 [==============================] - 2s 4ms/step - loss: 0.3635 - accuracy: 0.8424 - val_loss: 0.3264 - val_accuracy: 0.8608\n",
      "Epoch 27/1000\n",
      "422/422 [==============================] - 2s 4ms/step - loss: 0.3635 - accuracy: 0.8412 - val_loss: 0.3292 - val_accuracy: 0.8613\n",
      "Epoch 28/1000\n",
      "422/422 [==============================] - 2s 4ms/step - loss: 0.3665 - accuracy: 0.8403 - val_loss: 0.3278 - val_accuracy: 0.8624\n",
      "Epoch 29/1000\n",
      "422/422 [==============================] - 2s 4ms/step - loss: 0.3635 - accuracy: 0.8435 - val_loss: 0.3243 - val_accuracy: 0.8597\n",
      "Epoch 30/1000\n",
      "422/422 [==============================] - 2s 5ms/step - loss: 0.3640 - accuracy: 0.8420 - val_loss: 0.3266 - val_accuracy: 0.8609\n",
      "Epoch 31/1000\n",
      "422/422 [==============================] - 2s 4ms/step - loss: 0.3646 - accuracy: 0.8428 - val_loss: 0.3254 - val_accuracy: 0.8591\n",
      "Epoch 32/1000\n",
      "422/422 [==============================] - 2s 4ms/step - loss: 0.3625 - accuracy: 0.8418 - val_loss: 0.3284 - val_accuracy: 0.8601\n",
      "Epoch 33/1000\n",
      "422/422 [==============================] - 2s 4ms/step - loss: 0.3628 - accuracy: 0.8416 - val_loss: 0.3287 - val_accuracy: 0.8630\n",
      "Epoch 34/1000\n",
      "422/422 [==============================] - 2s 4ms/step - loss: 0.3612 - accuracy: 0.8420 - val_loss: 0.3248 - val_accuracy: 0.8626\n",
      "Epoch 35/1000\n",
      "422/422 [==============================] - 2s 4ms/step - loss: 0.3635 - accuracy: 0.8414 - val_loss: 0.3278 - val_accuracy: 0.8615\n",
      "Epoch 36/1000\n",
      "422/422 [==============================] - 2s 4ms/step - loss: 0.3624 - accuracy: 0.8420 - val_loss: 0.3240 - val_accuracy: 0.8625\n",
      "Epoch 37/1000\n",
      "422/422 [==============================] - 2s 4ms/step - loss: 0.3614 - accuracy: 0.8437 - val_loss: 0.3278 - val_accuracy: 0.8626\n",
      "Epoch 38/1000\n",
      "422/422 [==============================] - 2s 4ms/step - loss: 0.3615 - accuracy: 0.8436 - val_loss: 0.3245 - val_accuracy: 0.8618\n",
      "Epoch 39/1000\n",
      "422/422 [==============================] - 2s 4ms/step - loss: 0.3606 - accuracy: 0.8437 - val_loss: 0.3257 - val_accuracy: 0.8624\n",
      "Epoch 40/1000\n",
      "422/422 [==============================] - 2s 4ms/step - loss: 0.3620 - accuracy: 0.8425 - val_loss: 0.3260 - val_accuracy: 0.8612\n",
      "Epoch 41/1000\n",
      "422/422 [==============================] - 2s 4ms/step - loss: 0.3612 - accuracy: 0.8425 - val_loss: 0.3234 - val_accuracy: 0.8638\n",
      "Epoch 42/1000\n",
      "422/422 [==============================] - 2s 4ms/step - loss: 0.3625 - accuracy: 0.8432 - val_loss: 0.3265 - val_accuracy: 0.8621\n",
      "Epoch 43/1000\n",
      "422/422 [==============================] - 2s 5ms/step - loss: 0.3600 - accuracy: 0.8433 - val_loss: 0.3247 - val_accuracy: 0.8632\n",
      "Epoch 44/1000\n",
      "422/422 [==============================] - 2s 4ms/step - loss: 0.3619 - accuracy: 0.8434 - val_loss: 0.3232 - val_accuracy: 0.8633\n",
      "Epoch 45/1000\n",
      "422/422 [==============================] - 2s 4ms/step - loss: 0.3596 - accuracy: 0.8442 - val_loss: 0.3253 - val_accuracy: 0.8624\n",
      "Epoch 46/1000\n",
      "422/422 [==============================] - 2s 4ms/step - loss: 0.3607 - accuracy: 0.8439 - val_loss: 0.3237 - val_accuracy: 0.8628\n",
      "Epoch 47/1000\n",
      "422/422 [==============================] - 2s 4ms/step - loss: 0.3615 - accuracy: 0.8422 - val_loss: 0.3253 - val_accuracy: 0.8608\n",
      "Epoch 48/1000\n",
      "422/422 [==============================] - 2s 4ms/step - loss: 0.3615 - accuracy: 0.8422 - val_loss: 0.3239 - val_accuracy: 0.8610\n",
      "Epoch 49/1000\n",
      "422/422 [==============================] - 2s 4ms/step - loss: 0.3601 - accuracy: 0.8439 - val_loss: 0.3232 - val_accuracy: 0.8621\n",
      "Epoch 50/1000\n",
      "422/422 [==============================] - 2s 4ms/step - loss: 0.3601 - accuracy: 0.8440 - val_loss: 0.3257 - val_accuracy: 0.8622\n",
      "Epoch 51/1000\n",
      "422/422 [==============================] - 2s 4ms/step - loss: 0.3605 - accuracy: 0.8435 - val_loss: 0.3255 - val_accuracy: 0.8633\n",
      "Epoch 52/1000\n",
      "422/422 [==============================] - 2s 4ms/step - loss: 0.3615 - accuracy: 0.8435 - val_loss: 0.3267 - val_accuracy: 0.8624\n",
      "Epoch 53/1000\n",
      "422/422 [==============================] - 2s 4ms/step - loss: 0.3617 - accuracy: 0.8419 - val_loss: 0.3247 - val_accuracy: 0.8628\n",
      "Epoch 54/1000\n",
      "422/422 [==============================] - 2s 4ms/step - loss: 0.3606 - accuracy: 0.8436 - val_loss: 0.3238 - val_accuracy: 0.8614\n",
      "Epoch 55/1000\n",
      "422/422 [==============================] - 2s 4ms/step - loss: 0.3604 - accuracy: 0.8430 - val_loss: 0.3262 - val_accuracy: 0.8604\n",
      "Epoch 56/1000\n",
      "422/422 [==============================] - 2s 4ms/step - loss: 0.3602 - accuracy: 0.8439 - val_loss: 0.3262 - val_accuracy: 0.8626\n",
      "Epoch 57/1000\n"
     ]
    },
    {
     "name": "stdout",
     "output_type": "stream",
     "text": [
      "422/422 [==============================] - 2s 4ms/step - loss: 0.3598 - accuracy: 0.8431 - val_loss: 0.3268 - val_accuracy: 0.8568\n",
      "Epoch 58/1000\n",
      "422/422 [==============================] - 2s 4ms/step - loss: 0.3597 - accuracy: 0.8441 - val_loss: 0.3256 - val_accuracy: 0.8641\n",
      "Epoch 59/1000\n",
      "422/422 [==============================] - 2s 4ms/step - loss: 0.3599 - accuracy: 0.8451 - val_loss: 0.3275 - val_accuracy: 0.8637\n",
      "Epoch 60/1000\n",
      "422/422 [==============================] - 2s 4ms/step - loss: 0.3605 - accuracy: 0.8429 - val_loss: 0.3289 - val_accuracy: 0.8607\n",
      "Epoch 61/1000\n",
      "422/422 [==============================] - 2s 4ms/step - loss: 0.3584 - accuracy: 0.8452 - val_loss: 0.3275 - val_accuracy: 0.8621\n",
      "Epoch 62/1000\n",
      "422/422 [==============================] - 2s 4ms/step - loss: 0.3598 - accuracy: 0.8441 - val_loss: 0.3274 - val_accuracy: 0.8593\n",
      "Epoch 63/1000\n",
      "422/422 [==============================] - 2s 4ms/step - loss: 0.3614 - accuracy: 0.8424 - val_loss: 0.3243 - val_accuracy: 0.8638\n",
      "Epoch 64/1000\n",
      "422/422 [==============================] - 2s 4ms/step - loss: 0.3593 - accuracy: 0.8451 - val_loss: 0.3274 - val_accuracy: 0.8619\n",
      "Epoch 65/1000\n",
      "422/422 [==============================] - 2s 4ms/step - loss: 0.3607 - accuracy: 0.8435 - val_loss: 0.3254 - val_accuracy: 0.8608\n",
      "Epoch 66/1000\n",
      "422/422 [==============================] - 2s 4ms/step - loss: 0.3595 - accuracy: 0.8427 - val_loss: 0.3238 - val_accuracy: 0.8624\n",
      "Epoch 67/1000\n",
      "422/422 [==============================] - 2s 4ms/step - loss: 0.3583 - accuracy: 0.8442 - val_loss: 0.3272 - val_accuracy: 0.8627\n",
      "Epoch 68/1000\n",
      "422/422 [==============================] - 2s 4ms/step - loss: 0.3596 - accuracy: 0.8436 - val_loss: 0.3238 - val_accuracy: 0.8618\n",
      "Epoch 69/1000\n",
      "422/422 [==============================] - 2s 4ms/step - loss: 0.3601 - accuracy: 0.8438 - val_loss: 0.3240 - val_accuracy: 0.8630\n",
      "Epoch 70/1000\n",
      "422/422 [==============================] - 2s 4ms/step - loss: 0.3587 - accuracy: 0.8453 - val_loss: 0.3231 - val_accuracy: 0.8626\n",
      "Epoch 71/1000\n",
      "422/422 [==============================] - 2s 4ms/step - loss: 0.3588 - accuracy: 0.8444 - val_loss: 0.3258 - val_accuracy: 0.8634\n",
      "Epoch 72/1000\n",
      "422/422 [==============================] - 2s 4ms/step - loss: 0.3582 - accuracy: 0.8453 - val_loss: 0.3250 - val_accuracy: 0.8626\n",
      "Epoch 73/1000\n",
      "422/422 [==============================] - 2s 4ms/step - loss: 0.3575 - accuracy: 0.8454 - val_loss: 0.3268 - val_accuracy: 0.8627\n",
      "Epoch 74/1000\n",
      "422/422 [==============================] - 2s 4ms/step - loss: 0.3582 - accuracy: 0.8448 - val_loss: 0.3248 - val_accuracy: 0.8651\n",
      "Epoch 75/1000\n",
      "422/422 [==============================] - 2s 4ms/step - loss: 0.3594 - accuracy: 0.8435 - val_loss: 0.3288 - val_accuracy: 0.8621\n",
      "Epoch 76/1000\n",
      "422/422 [==============================] - 2s 4ms/step - loss: 0.3583 - accuracy: 0.8459 - val_loss: 0.3231 - val_accuracy: 0.8641\n",
      "Epoch 77/1000\n",
      "422/422 [==============================] - 2s 4ms/step - loss: 0.3584 - accuracy: 0.8454 - val_loss: 0.3256 - val_accuracy: 0.8635\n",
      "Epoch 78/1000\n",
      "422/422 [==============================] - 2s 4ms/step - loss: 0.3585 - accuracy: 0.8439 - val_loss: 0.3245 - val_accuracy: 0.8626\n",
      "Epoch 79/1000\n",
      "422/422 [==============================] - 2s 4ms/step - loss: 0.3586 - accuracy: 0.8448 - val_loss: 0.3231 - val_accuracy: 0.8625\n",
      "Epoch 80/1000\n",
      "422/422 [==============================] - 2s 4ms/step - loss: 0.3571 - accuracy: 0.8459 - val_loss: 0.3281 - val_accuracy: 0.8627\n",
      "Epoch 81/1000\n",
      "422/422 [==============================] - 2s 4ms/step - loss: 0.3586 - accuracy: 0.8454 - val_loss: 0.3253 - val_accuracy: 0.8627\n",
      "Epoch 82/1000\n",
      "422/422 [==============================] - 2s 4ms/step - loss: 0.3613 - accuracy: 0.8409 - val_loss: 0.3227 - val_accuracy: 0.8629\n",
      "Epoch 83/1000\n",
      "422/422 [==============================] - 2s 4ms/step - loss: 0.3598 - accuracy: 0.8436 - val_loss: 0.3274 - val_accuracy: 0.8633\n",
      "Epoch 84/1000\n",
      "422/422 [==============================] - 2s 4ms/step - loss: 0.3592 - accuracy: 0.8435 - val_loss: 0.3225 - val_accuracy: 0.8646\n",
      "Epoch 85/1000\n",
      "422/422 [==============================] - 2s 4ms/step - loss: 0.3588 - accuracy: 0.8448 - val_loss: 0.3241 - val_accuracy: 0.8636\n",
      "Epoch 86/1000\n",
      "422/422 [==============================] - 2s 4ms/step - loss: 0.3610 - accuracy: 0.8428 - val_loss: 0.3259 - val_accuracy: 0.8620\n",
      "Epoch 87/1000\n",
      "422/422 [==============================] - 2s 4ms/step - loss: 0.3592 - accuracy: 0.8455 - val_loss: 0.3296 - val_accuracy: 0.8613\n",
      "Epoch 88/1000\n",
      "422/422 [==============================] - 2s 4ms/step - loss: 0.3595 - accuracy: 0.8443 - val_loss: 0.3271 - val_accuracy: 0.8620\n",
      "Epoch 89/1000\n",
      "422/422 [==============================] - 2s 4ms/step - loss: 0.3569 - accuracy: 0.8451 - val_loss: 0.3257 - val_accuracy: 0.8605\n",
      "Epoch 90/1000\n",
      "422/422 [==============================] - 2s 4ms/step - loss: 0.3585 - accuracy: 0.8448 - val_loss: 0.3219 - val_accuracy: 0.8633\n",
      "Epoch 91/1000\n",
      "422/422 [==============================] - 2s 4ms/step - loss: 0.3590 - accuracy: 0.8447 - val_loss: 0.3268 - val_accuracy: 0.8620\n",
      "Epoch 92/1000\n",
      "422/422 [==============================] - 2s 4ms/step - loss: 0.3564 - accuracy: 0.8451 - val_loss: 0.3274 - val_accuracy: 0.8623\n",
      "Epoch 93/1000\n",
      "422/422 [==============================] - 2s 4ms/step - loss: 0.3566 - accuracy: 0.8453 - val_loss: 0.3248 - val_accuracy: 0.8615\n",
      "Epoch 94/1000\n",
      "422/422 [==============================] - 2s 4ms/step - loss: 0.3583 - accuracy: 0.8449 - val_loss: 0.3234 - val_accuracy: 0.8641\n",
      "Epoch 95/1000\n",
      "422/422 [==============================] - 2s 4ms/step - loss: 0.3569 - accuracy: 0.8447 - val_loss: 0.3242 - val_accuracy: 0.8627\n",
      "Epoch 96/1000\n",
      "422/422 [==============================] - 2s 4ms/step - loss: 0.3604 - accuracy: 0.8424 - val_loss: 0.3227 - val_accuracy: 0.8638\n",
      "Epoch 97/1000\n",
      "422/422 [==============================] - 2s 4ms/step - loss: 0.3594 - accuracy: 0.8451 - val_loss: 0.3257 - val_accuracy: 0.8630\n",
      "Epoch 98/1000\n",
      "422/422 [==============================] - 2s 4ms/step - loss: 0.3569 - accuracy: 0.8461 - val_loss: 0.3252 - val_accuracy: 0.8644\n",
      "Epoch 99/1000\n",
      "422/422 [==============================] - 2s 4ms/step - loss: 0.3571 - accuracy: 0.8455 - val_loss: 0.3261 - val_accuracy: 0.8635\n",
      "Epoch 100/1000\n",
      "422/422 [==============================] - 2s 4ms/step - loss: 0.3573 - accuracy: 0.8451 - val_loss: 0.3222 - val_accuracy: 0.8639\n",
      "Epoch 101/1000\n",
      "422/422 [==============================] - 2s 4ms/step - loss: 0.3583 - accuracy: 0.8450 - val_loss: 0.3234 - val_accuracy: 0.8648\n",
      "Epoch 102/1000\n",
      "422/422 [==============================] - 2s 4ms/step - loss: 0.3576 - accuracy: 0.8452 - val_loss: 0.3255 - val_accuracy: 0.8616\n",
      "Epoch 103/1000\n",
      "422/422 [==============================] - 2s 4ms/step - loss: 0.3567 - accuracy: 0.8446 - val_loss: 0.3270 - val_accuracy: 0.8627\n",
      "Epoch 104/1000\n",
      "422/422 [==============================] - 2s 4ms/step - loss: 0.3579 - accuracy: 0.8445 - val_loss: 0.3243 - val_accuracy: 0.8648\n",
      "Epoch 105/1000\n",
      "422/422 [==============================] - 2s 4ms/step - loss: 0.3566 - accuracy: 0.8457 - val_loss: 0.3223 - val_accuracy: 0.8647\n",
      "Epoch 106/1000\n",
      "422/422 [==============================] - 2s 4ms/step - loss: 0.3567 - accuracy: 0.8446 - val_loss: 0.3239 - val_accuracy: 0.8629\n",
      "Epoch 107/1000\n",
      "422/422 [==============================] - 2s 4ms/step - loss: 0.3578 - accuracy: 0.8437 - val_loss: 0.3231 - val_accuracy: 0.8635\n",
      "Epoch 108/1000\n",
      "422/422 [==============================] - 2s 4ms/step - loss: 0.3584 - accuracy: 0.8444 - val_loss: 0.3270 - val_accuracy: 0.8616\n",
      "Epoch 109/1000\n",
      "422/422 [==============================] - 2s 4ms/step - loss: 0.3581 - accuracy: 0.8448 - val_loss: 0.3287 - val_accuracy: 0.8627\n",
      "Epoch 110/1000\n",
      "422/422 [==============================] - 2s 4ms/step - loss: 0.3576 - accuracy: 0.8447 - val_loss: 0.3224 - val_accuracy: 0.8631\n",
      "Epoch 111/1000\n",
      "422/422 [==============================] - 2s 4ms/step - loss: 0.3571 - accuracy: 0.8463 - val_loss: 0.3234 - val_accuracy: 0.8610\n",
      "Epoch 112/1000\n",
      "422/422 [==============================] - 2s 4ms/step - loss: 0.3584 - accuracy: 0.8446 - val_loss: 0.3226 - val_accuracy: 0.8632\n",
      "Epoch 113/1000\n"
     ]
    },
    {
     "name": "stdout",
     "output_type": "stream",
     "text": [
      "422/422 [==============================] - 2s 4ms/step - loss: 0.3566 - accuracy: 0.8459 - val_loss: 0.3264 - val_accuracy: 0.8621\n",
      "Epoch 114/1000\n",
      "422/422 [==============================] - 2s 4ms/step - loss: 0.3573 - accuracy: 0.8454 - val_loss: 0.3285 - val_accuracy: 0.8624\n",
      "Epoch 115/1000\n",
      "422/422 [==============================] - 2s 4ms/step - loss: 0.3589 - accuracy: 0.8440 - val_loss: 0.3252 - val_accuracy: 0.8609\n",
      "Epoch 116/1000\n",
      "422/422 [==============================] - 2s 4ms/step - loss: 0.3565 - accuracy: 0.8454 - val_loss: 0.3240 - val_accuracy: 0.8622\n",
      "Epoch 117/1000\n",
      "422/422 [==============================] - 2s 4ms/step - loss: 0.3589 - accuracy: 0.8442 - val_loss: 0.3226 - val_accuracy: 0.8622\n",
      "Epoch 118/1000\n",
      "422/422 [==============================] - 2s 4ms/step - loss: 0.3589 - accuracy: 0.8438 - val_loss: 0.3285 - val_accuracy: 0.8600\n",
      "Epoch 119/1000\n",
      "422/422 [==============================] - 2s 4ms/step - loss: 0.3573 - accuracy: 0.8453 - val_loss: 0.3249 - val_accuracy: 0.8614\n",
      "Epoch 120/1000\n",
      "422/422 [==============================] - 2s 4ms/step - loss: 0.3568 - accuracy: 0.8449 - val_loss: 0.3259 - val_accuracy: 0.8627\n",
      "Epoch 121/1000\n",
      "422/422 [==============================] - 2s 4ms/step - loss: 0.3581 - accuracy: 0.8447 - val_loss: 0.3264 - val_accuracy: 0.8632\n",
      "Epoch 122/1000\n",
      "422/422 [==============================] - 2s 4ms/step - loss: 0.3573 - accuracy: 0.8450 - val_loss: 0.3229 - val_accuracy: 0.8622\n",
      "Epoch 123/1000\n",
      "422/422 [==============================] - 2s 4ms/step - loss: 0.3564 - accuracy: 0.8458 - val_loss: 0.3247 - val_accuracy: 0.8627\n",
      "Epoch 124/1000\n",
      "422/422 [==============================] - 2s 4ms/step - loss: 0.3554 - accuracy: 0.8454 - val_loss: 0.3239 - val_accuracy: 0.8639\n",
      "Epoch 125/1000\n",
      "422/422 [==============================] - 2s 4ms/step - loss: 0.3578 - accuracy: 0.8446 - val_loss: 0.3254 - val_accuracy: 0.8604\n",
      "Epoch 126/1000\n",
      "422/422 [==============================] - 2s 4ms/step - loss: 0.3572 - accuracy: 0.8445 - val_loss: 0.3253 - val_accuracy: 0.8627\n",
      "Epoch 127/1000\n",
      "422/422 [==============================] - 2s 4ms/step - loss: 0.3558 - accuracy: 0.8464 - val_loss: 0.3256 - val_accuracy: 0.8624\n",
      "Epoch 128/1000\n",
      "422/422 [==============================] - 2s 4ms/step - loss: 0.3541 - accuracy: 0.8459 - val_loss: 0.3246 - val_accuracy: 0.8613\n",
      "Epoch 129/1000\n",
      "422/422 [==============================] - 2s 4ms/step - loss: 0.3565 - accuracy: 0.8445 - val_loss: 0.3241 - val_accuracy: 0.8655\n",
      "Epoch 130/1000\n",
      "422/422 [==============================] - 2s 4ms/step - loss: 0.3554 - accuracy: 0.8456 - val_loss: 0.3237 - val_accuracy: 0.8628\n",
      "Epoch 131/1000\n",
      "422/422 [==============================] - 2s 4ms/step - loss: 0.3557 - accuracy: 0.8465 - val_loss: 0.3259 - val_accuracy: 0.8631\n",
      "Epoch 132/1000\n",
      "422/422 [==============================] - 2s 4ms/step - loss: 0.3599 - accuracy: 0.8432 - val_loss: 0.3240 - val_accuracy: 0.8628\n",
      "Epoch 133/1000\n",
      "422/422 [==============================] - ETA: 0s - loss: 0.3556 - accuracy: 0.84 - 2s 4ms/step - loss: 0.3560 - accuracy: 0.8463 - val_loss: 0.3234 - val_accuracy: 0.8632\n",
      "Epoch 134/1000\n",
      "422/422 [==============================] - 2s 4ms/step - loss: 0.3581 - accuracy: 0.8451 - val_loss: 0.3222 - val_accuracy: 0.8641\n",
      "Epoch 135/1000\n",
      "422/422 [==============================] - 2s 4ms/step - loss: 0.3556 - accuracy: 0.8456 - val_loss: 0.3274 - val_accuracy: 0.8627\n",
      "Epoch 136/1000\n",
      "422/422 [==============================] - 2s 4ms/step - loss: 0.3571 - accuracy: 0.8460 - val_loss: 0.3263 - val_accuracy: 0.8624\n",
      "Epoch 137/1000\n",
      "422/422 [==============================] - 2s 4ms/step - loss: 0.3564 - accuracy: 0.8457 - val_loss: 0.3260 - val_accuracy: 0.8640\n",
      "Epoch 138/1000\n",
      "422/422 [==============================] - 2s 5ms/step - loss: 0.3578 - accuracy: 0.8453 - val_loss: 0.3231 - val_accuracy: 0.8645\n",
      "Epoch 139/1000\n",
      "422/422 [==============================] - 2s 5ms/step - loss: 0.3570 - accuracy: 0.8459 - val_loss: 0.3238 - val_accuracy: 0.8626\n",
      "Epoch 140/1000\n",
      "422/422 [==============================] - 2s 5ms/step - loss: 0.3560 - accuracy: 0.8453 - val_loss: 0.3262 - val_accuracy: 0.8635\n",
      "Epoch 141/1000\n",
      "422/422 [==============================] - 2s 5ms/step - loss: 0.3556 - accuracy: 0.8451 - val_loss: 0.3248 - val_accuracy: 0.8612\n",
      "Epoch 142/1000\n",
      "422/422 [==============================] - 2s 5ms/step - loss: 0.3555 - accuracy: 0.8442 - val_loss: 0.3268 - val_accuracy: 0.8600\n",
      "Epoch 143/1000\n",
      "422/422 [==============================] - 2s 5ms/step - loss: 0.3579 - accuracy: 0.8447 - val_loss: 0.3243 - val_accuracy: 0.8640\n",
      "Epoch 144/1000\n",
      "422/422 [==============================] - 2s 6ms/step - loss: 0.3588 - accuracy: 0.8437 - val_loss: 0.3244 - val_accuracy: 0.8621\n",
      "Epoch 145/1000\n",
      "422/422 [==============================] - 2s 5ms/step - loss: 0.3578 - accuracy: 0.8452 - val_loss: 0.3251 - val_accuracy: 0.8606\n",
      "Epoch 146/1000\n",
      "422/422 [==============================] - 2s 5ms/step - loss: 0.3563 - accuracy: 0.8448 - val_loss: 0.3224 - val_accuracy: 0.8643\n",
      "Epoch 147/1000\n",
      "422/422 [==============================] - 2s 5ms/step - loss: 0.3557 - accuracy: 0.8470 - val_loss: 0.3256 - val_accuracy: 0.8627\n",
      "Epoch 148/1000\n",
      "422/422 [==============================] - 2s 5ms/step - loss: 0.3579 - accuracy: 0.8448 - val_loss: 0.3257 - val_accuracy: 0.8629\n",
      "Epoch 149/1000\n",
      "422/422 [==============================] - 2s 5ms/step - loss: 0.3559 - accuracy: 0.8449 - val_loss: 0.3240 - val_accuracy: 0.8630\n",
      "Epoch 150/1000\n",
      "422/422 [==============================] - 2s 5ms/step - loss: 0.3548 - accuracy: 0.8455 - val_loss: 0.3229 - val_accuracy: 0.8645\n",
      "Epoch 151/1000\n",
      "422/422 [==============================] - 2s 5ms/step - loss: 0.3558 - accuracy: 0.8465 - val_loss: 0.3257 - val_accuracy: 0.8630\n",
      "Epoch 152/1000\n",
      "422/422 [==============================] - 2s 6ms/step - loss: 0.3567 - accuracy: 0.8455 - val_loss: 0.3242 - val_accuracy: 0.8621\n",
      "Epoch 153/1000\n",
      "422/422 [==============================] - 2s 5ms/step - loss: 0.3562 - accuracy: 0.8451 - val_loss: 0.3254 - val_accuracy: 0.8630\n",
      "Epoch 154/1000\n",
      "422/422 [==============================] - 2s 6ms/step - loss: 0.3575 - accuracy: 0.8441 - val_loss: 0.3259 - val_accuracy: 0.8598\n",
      "Epoch 155/1000\n",
      "422/422 [==============================] - 2s 6ms/step - loss: 0.3560 - accuracy: 0.8466 - val_loss: 0.3261 - val_accuracy: 0.8612\n",
      "Epoch 156/1000\n",
      "422/422 [==============================] - 2s 6ms/step - loss: 0.3559 - accuracy: 0.8450 - val_loss: 0.3260 - val_accuracy: 0.8637\n",
      "Epoch 157/1000\n",
      "422/422 [==============================] - 2s 5ms/step - loss: 0.3568 - accuracy: 0.8444 - val_loss: 0.3230 - val_accuracy: 0.8641\n",
      "Epoch 158/1000\n",
      "422/422 [==============================] - 2s 4ms/step - loss: 0.3571 - accuracy: 0.8446 - val_loss: 0.3239 - val_accuracy: 0.8646\n",
      "Epoch 159/1000\n",
      "422/422 [==============================] - 2s 4ms/step - loss: 0.3534 - accuracy: 0.8469 - val_loss: 0.3218 - val_accuracy: 0.8639\n",
      "Epoch 160/1000\n",
      "422/422 [==============================] - 2s 4ms/step - loss: 0.3565 - accuracy: 0.8449 - val_loss: 0.3255 - val_accuracy: 0.8641\n",
      "Epoch 161/1000\n",
      "422/422 [==============================] - 2s 4ms/step - loss: 0.3565 - accuracy: 0.8454 - val_loss: 0.3224 - val_accuracy: 0.8629\n",
      "Epoch 162/1000\n",
      "422/422 [==============================] - 2s 4ms/step - loss: 0.3558 - accuracy: 0.8450 - val_loss: 0.3228 - val_accuracy: 0.8635\n",
      "Epoch 163/1000\n",
      "422/422 [==============================] - 2s 4ms/step - loss: 0.3570 - accuracy: 0.8456 - val_loss: 0.3269 - val_accuracy: 0.8628\n",
      "Epoch 164/1000\n",
      "422/422 [==============================] - 2s 4ms/step - loss: 0.3559 - accuracy: 0.8465 - val_loss: 0.3234 - val_accuracy: 0.8641\n",
      "Epoch 165/1000\n",
      "422/422 [==============================] - 2s 4ms/step - loss: 0.3551 - accuracy: 0.8463 - val_loss: 0.3262 - val_accuracy: 0.8624\n",
      "Epoch 166/1000\n",
      "422/422 [==============================] - 2s 4ms/step - loss: 0.3568 - accuracy: 0.8454 - val_loss: 0.3260 - val_accuracy: 0.8609\n",
      "Epoch 167/1000\n",
      "422/422 [==============================] - 2s 4ms/step - loss: 0.3561 - accuracy: 0.8453 - val_loss: 0.3268 - val_accuracy: 0.8627\n",
      "Epoch 168/1000\n",
      "422/422 [==============================] - 2s 4ms/step - loss: 0.3566 - accuracy: 0.8474 - val_loss: 0.3235 - val_accuracy: 0.8621\n"
     ]
    },
    {
     "name": "stdout",
     "output_type": "stream",
     "text": [
      "Epoch 169/1000\n",
      "422/422 [==============================] - 2s 4ms/step - loss: 0.3545 - accuracy: 0.8462 - val_loss: 0.3239 - val_accuracy: 0.8635\n",
      "Epoch 170/1000\n",
      "422/422 [==============================] - 2s 4ms/step - loss: 0.3576 - accuracy: 0.8462 - val_loss: 0.3242 - val_accuracy: 0.8632\n",
      "Epoch 171/1000\n",
      "422/422 [==============================] - 2s 4ms/step - loss: 0.3576 - accuracy: 0.8466 - val_loss: 0.3250 - val_accuracy: 0.8630\n",
      "Epoch 172/1000\n",
      "422/422 [==============================] - 2s 4ms/step - loss: 0.3574 - accuracy: 0.8455 - val_loss: 0.3246 - val_accuracy: 0.8627\n",
      "Epoch 173/1000\n",
      "422/422 [==============================] - 2s 4ms/step - loss: 0.3556 - accuracy: 0.8476 - val_loss: 0.3249 - val_accuracy: 0.8625\n",
      "Epoch 174/1000\n",
      "422/422 [==============================] - 2s 4ms/step - loss: 0.3556 - accuracy: 0.8460 - val_loss: 0.3243 - val_accuracy: 0.8638\n",
      "Epoch 175/1000\n",
      "422/422 [==============================] - 2s 4ms/step - loss: 0.3560 - accuracy: 0.8447 - val_loss: 0.3241 - val_accuracy: 0.8632\n",
      "Epoch 176/1000\n",
      "422/422 [==============================] - 2s 4ms/step - loss: 0.3567 - accuracy: 0.8448 - val_loss: 0.3257 - val_accuracy: 0.8641\n",
      "Epoch 177/1000\n",
      "422/422 [==============================] - 2s 4ms/step - loss: 0.3566 - accuracy: 0.8463 - val_loss: 0.3265 - val_accuracy: 0.8635\n",
      "Epoch 178/1000\n",
      "422/422 [==============================] - 2s 4ms/step - loss: 0.3573 - accuracy: 0.8438 - val_loss: 0.3265 - val_accuracy: 0.8631\n",
      "Epoch 179/1000\n",
      "422/422 [==============================] - 2s 5ms/step - loss: 0.3561 - accuracy: 0.8451 - val_loss: 0.3217 - val_accuracy: 0.8632\n",
      "Epoch 180/1000\n",
      "422/422 [==============================] - 2s 5ms/step - loss: 0.3545 - accuracy: 0.8477 - val_loss: 0.3237 - val_accuracy: 0.8630\n",
      "Epoch 181/1000\n",
      "422/422 [==============================] - 2s 5ms/step - loss: 0.3572 - accuracy: 0.8447 - val_loss: 0.3255 - val_accuracy: 0.8627\n",
      "Epoch 182/1000\n",
      "422/422 [==============================] - 2s 5ms/step - loss: 0.3539 - accuracy: 0.8462 - val_loss: 0.3245 - val_accuracy: 0.8643\n",
      "Epoch 183/1000\n",
      "422/422 [==============================] - 2s 5ms/step - loss: 0.3550 - accuracy: 0.8453 - val_loss: 0.3255 - val_accuracy: 0.8630\n",
      "Epoch 184/1000\n",
      "422/422 [==============================] - 2s 5ms/step - loss: 0.3545 - accuracy: 0.8466 - val_loss: 0.3255 - val_accuracy: 0.8613\n",
      "Epoch 185/1000\n",
      "422/422 [==============================] - 2s 5ms/step - loss: 0.3549 - accuracy: 0.8470 - val_loss: 0.3242 - val_accuracy: 0.8628\n",
      "Epoch 186/1000\n",
      "422/422 [==============================] - 2s 5ms/step - loss: 0.3554 - accuracy: 0.8458 - val_loss: 0.3225 - val_accuracy: 0.8619\n",
      "Epoch 187/1000\n",
      "422/422 [==============================] - 2s 4ms/step - loss: 0.3561 - accuracy: 0.8468 - val_loss: 0.3241 - val_accuracy: 0.8616\n",
      "Epoch 188/1000\n",
      "422/422 [==============================] - 2s 4ms/step - loss: 0.3569 - accuracy: 0.8440 - val_loss: 0.3238 - val_accuracy: 0.8637\n",
      "Epoch 189/1000\n",
      "422/422 [==============================] - 2s 5ms/step - loss: 0.3554 - accuracy: 0.8466 - val_loss: 0.3227 - val_accuracy: 0.8631\n",
      "Epoch 190/1000\n",
      "422/422 [==============================] - 2s 5ms/step - loss: 0.3578 - accuracy: 0.8448 - val_loss: 0.3234 - val_accuracy: 0.8617\n",
      "Epoch 191/1000\n",
      "422/422 [==============================] - 2s 5ms/step - loss: 0.3562 - accuracy: 0.8469 - val_loss: 0.3223 - val_accuracy: 0.8630\n",
      "Epoch 192/1000\n",
      "422/422 [==============================] - 2s 4ms/step - loss: 0.3576 - accuracy: 0.8443 - val_loss: 0.3266 - val_accuracy: 0.8628\n",
      "Epoch 193/1000\n",
      "422/422 [==============================] - 3s 6ms/step - loss: 0.3571 - accuracy: 0.8450 - val_loss: 0.3241 - val_accuracy: 0.8641\n",
      "Epoch 194/1000\n",
      "422/422 [==============================] - 2s 6ms/step - loss: 0.3535 - accuracy: 0.8466 - val_loss: 0.3234 - val_accuracy: 0.8627\n",
      "Epoch 195/1000\n",
      "422/422 [==============================] - 3s 7ms/step - loss: 0.3543 - accuracy: 0.8461 - val_loss: 0.3233 - val_accuracy: 0.8644\n",
      "Epoch 196/1000\n",
      "422/422 [==============================] - 2s 5ms/step - loss: 0.3549 - accuracy: 0.8462 - val_loss: 0.3247 - val_accuracy: 0.8630\n",
      "Epoch 197/1000\n",
      "422/422 [==============================] - 2s 5ms/step - loss: 0.3559 - accuracy: 0.8454 - val_loss: 0.3238 - val_accuracy: 0.8642\n",
      "Epoch 198/1000\n",
      "422/422 [==============================] - 2s 5ms/step - loss: 0.3558 - accuracy: 0.8453 - val_loss: 0.3218 - val_accuracy: 0.8633\n",
      "Epoch 199/1000\n",
      "422/422 [==============================] - 2s 5ms/step - loss: 0.3553 - accuracy: 0.8469 - val_loss: 0.3251 - val_accuracy: 0.8613\n",
      "Epoch 200/1000\n",
      "422/422 [==============================] - 2s 4ms/step - loss: 0.3546 - accuracy: 0.8450 - val_loss: 0.3234 - val_accuracy: 0.8641\n",
      "Epoch 201/1000\n",
      "422/422 [==============================] - 2s 4ms/step - loss: 0.3549 - accuracy: 0.8472 - val_loss: 0.3244 - val_accuracy: 0.8643\n",
      "Epoch 202/1000\n",
      "422/422 [==============================] - 2s 5ms/step - loss: 0.3541 - accuracy: 0.8460 - val_loss: 0.3239 - val_accuracy: 0.8632\n",
      "Epoch 203/1000\n",
      "422/422 [==============================] - 2s 5ms/step - loss: 0.3562 - accuracy: 0.8470 - val_loss: 0.3231 - val_accuracy: 0.8634\n",
      "Epoch 204/1000\n",
      "422/422 [==============================] - 3s 7ms/step - loss: 0.3565 - accuracy: 0.8440 - val_loss: 0.3226 - val_accuracy: 0.8639\n",
      "Epoch 205/1000\n",
      "422/422 [==============================] - 2s 5ms/step - loss: 0.3568 - accuracy: 0.8459 - val_loss: 0.3252 - val_accuracy: 0.8621\n",
      "Epoch 206/1000\n",
      "422/422 [==============================] - 2s 5ms/step - loss: 0.3567 - accuracy: 0.8458 - val_loss: 0.3238 - val_accuracy: 0.8638\n",
      "Epoch 207/1000\n",
      "422/422 [==============================] - 2s 5ms/step - loss: 0.3549 - accuracy: 0.8456 - val_loss: 0.3267 - val_accuracy: 0.8616\n",
      "Epoch 208/1000\n",
      "422/422 [==============================] - 2s 5ms/step - loss: 0.3524 - accuracy: 0.8469 - val_loss: 0.3231 - val_accuracy: 0.8642\n",
      "Epoch 209/1000\n",
      "422/422 [==============================] - 2s 5ms/step - loss: 0.3531 - accuracy: 0.8476 - val_loss: 0.3277 - val_accuracy: 0.8635\n",
      "Epoch 210/1000\n",
      "422/422 [==============================] - 2s 4ms/step - loss: 0.3553 - accuracy: 0.8444 - val_loss: 0.3225 - val_accuracy: 0.8631\n",
      "Epoch 211/1000\n",
      "422/422 [==============================] - 2s 4ms/step - loss: 0.3570 - accuracy: 0.8449 - val_loss: 0.3236 - val_accuracy: 0.8612\n",
      "Epoch 212/1000\n",
      "422/422 [==============================] - 2s 5ms/step - loss: 0.3557 - accuracy: 0.8455 - val_loss: 0.3282 - val_accuracy: 0.8621\n",
      "Epoch 213/1000\n",
      "422/422 [==============================] - 2s 4ms/step - loss: 0.3534 - accuracy: 0.8482 - val_loss: 0.3226 - val_accuracy: 0.8635\n",
      "Epoch 214/1000\n",
      "422/422 [==============================] - 2s 4ms/step - loss: 0.3567 - accuracy: 0.8458 - val_loss: 0.3262 - val_accuracy: 0.8613\n",
      "Epoch 215/1000\n",
      "422/422 [==============================] - 2s 5ms/step - loss: 0.3552 - accuracy: 0.8457 - val_loss: 0.3250 - val_accuracy: 0.8604\n",
      "Epoch 216/1000\n",
      "422/422 [==============================] - 2s 5ms/step - loss: 0.3556 - accuracy: 0.8450 - val_loss: 0.3248 - val_accuracy: 0.8624\n",
      "Epoch 217/1000\n",
      "422/422 [==============================] - 2s 4ms/step - loss: 0.3541 - accuracy: 0.8471 - val_loss: 0.3238 - val_accuracy: 0.8631\n",
      "Epoch 218/1000\n",
      "422/422 [==============================] - 2s 5ms/step - loss: 0.3539 - accuracy: 0.8462 - val_loss: 0.3271 - val_accuracy: 0.8645\n",
      "Epoch 219/1000\n",
      "422/422 [==============================] - 2s 5ms/step - loss: 0.3547 - accuracy: 0.8456 - val_loss: 0.3240 - val_accuracy: 0.8622\n",
      "Epoch 220/1000\n",
      "422/422 [==============================] - 2s 5ms/step - loss: 0.3540 - accuracy: 0.8463 - val_loss: 0.3226 - val_accuracy: 0.8616\n",
      "Epoch 221/1000\n",
      "422/422 [==============================] - 2s 5ms/step - loss: 0.3559 - accuracy: 0.8456 - val_loss: 0.3232 - val_accuracy: 0.8624\n",
      "Epoch 222/1000\n",
      "422/422 [==============================] - 2s 5ms/step - loss: 0.3536 - accuracy: 0.8479 - val_loss: 0.3245 - val_accuracy: 0.8612\n",
      "Epoch 223/1000\n",
      "422/422 [==============================] - 2s 5ms/step - loss: 0.3542 - accuracy: 0.8466 - val_loss: 0.3277 - val_accuracy: 0.8616\n",
      "Epoch 224/1000\n",
      "422/422 [==============================] - 2s 5ms/step - loss: 0.3547 - accuracy: 0.8463 - val_loss: 0.3234 - val_accuracy: 0.8617\n",
      "Epoch 225/1000\n"
     ]
    },
    {
     "name": "stdout",
     "output_type": "stream",
     "text": [
      "422/422 [==============================] - 2s 5ms/step - loss: 0.3565 - accuracy: 0.8471 - val_loss: 0.3252 - val_accuracy: 0.8629\n",
      "Epoch 226/1000\n",
      "422/422 [==============================] - 2s 5ms/step - loss: 0.3547 - accuracy: 0.8452 - val_loss: 0.3238 - val_accuracy: 0.8617\n",
      "Epoch 227/1000\n",
      "422/422 [==============================] - 2s 5ms/step - loss: 0.3545 - accuracy: 0.8470 - val_loss: 0.3270 - val_accuracy: 0.8623\n",
      "Epoch 228/1000\n",
      "422/422 [==============================] - 2s 5ms/step - loss: 0.3558 - accuracy: 0.8457 - val_loss: 0.3241 - val_accuracy: 0.8627\n",
      "Epoch 229/1000\n",
      "422/422 [==============================] - 2s 5ms/step - loss: 0.3540 - accuracy: 0.8467 - val_loss: 0.3229 - val_accuracy: 0.8635\n",
      "Epoch 230/1000\n",
      "422/422 [==============================] - 2s 5ms/step - loss: 0.3538 - accuracy: 0.8463 - val_loss: 0.3209 - val_accuracy: 0.8630\n",
      "Epoch 231/1000\n",
      "422/422 [==============================] - 2s 5ms/step - loss: 0.3567 - accuracy: 0.8456 - val_loss: 0.3265 - val_accuracy: 0.8639\n",
      "Epoch 232/1000\n",
      "422/422 [==============================] - 2s 5ms/step - loss: 0.3553 - accuracy: 0.8466 - val_loss: 0.3259 - val_accuracy: 0.8621\n",
      "Epoch 233/1000\n",
      "422/422 [==============================] - 2s 5ms/step - loss: 0.3558 - accuracy: 0.8445 - val_loss: 0.3234 - val_accuracy: 0.8635\n",
      "Epoch 234/1000\n",
      "422/422 [==============================] - 2s 5ms/step - loss: 0.3548 - accuracy: 0.8461 - val_loss: 0.3234 - val_accuracy: 0.8641\n",
      "Epoch 235/1000\n",
      "422/422 [==============================] - 2s 5ms/step - loss: 0.3533 - accuracy: 0.8474 - val_loss: 0.3215 - val_accuracy: 0.8635\n",
      "Epoch 236/1000\n",
      "422/422 [==============================] - 2s 5ms/step - loss: 0.3554 - accuracy: 0.8464 - val_loss: 0.3241 - val_accuracy: 0.8639\n",
      "Epoch 237/1000\n",
      "422/422 [==============================] - 2s 5ms/step - loss: 0.3544 - accuracy: 0.8461 - val_loss: 0.3248 - val_accuracy: 0.8626\n",
      "Epoch 238/1000\n",
      "422/422 [==============================] - 2s 5ms/step - loss: 0.3539 - accuracy: 0.8459 - val_loss: 0.3237 - val_accuracy: 0.8634\n",
      "Epoch 239/1000\n",
      " 51/422 [==>...........................] - ETA: 1s - loss: 0.3583 - accuracy: 0.8431"
     ]
    }
   ],
   "source": [
    "history_1 = model1.fit(x_train, y_train, epochs = 1000, batch_size = 128, validation_data = (x_val,y_val))"
   ]
  },
  {
   "cell_type": "code",
   "execution_count": null,
   "metadata": {},
   "outputs": [],
   "source": [
    "\n",
    "callback = tf.keras.callbacks.LearningRateScheduler(scheduler)\n",
    "history = model1.fit(x_train, y_train, epochs = 1000, batch_size = 128, validation_data = (x_val,y_val), callbacks = [callback])"
   ]
  },
  {
   "cell_type": "code",
   "execution_count": null,
   "metadata": {},
   "outputs": [],
   "source": [
    "callback = tf.keras.callbacks.LearningRateScheduler(scheduler)\n",
    "model_tuned = tuner.get_best_models(num_models=1)[0]\n",
    "history2 = model_tuned.fit(x_train, y_train, epochs = 100, batch_size = 128, validation_data = (x_val,y_val), callbacks = [callback])"
   ]
  },
  {
   "cell_type": "code",
   "execution_count": 142,
   "metadata": {},
   "outputs": [
    {
     "data": {
      "text/plain": [
       "(331147, 28)"
      ]
     },
     "execution_count": 142,
     "metadata": {},
     "output_type": "execute_result"
    }
   ],
   "source": [
    "\n",
    "x_train.shape\n",
    "check_agreement1.shape"
   ]
  },
  {
   "cell_type": "code",
   "execution_count": null,
   "metadata": {},
   "outputs": [],
   "source": [
    "model1.optimizer.lr.numpy()"
   ]
  },
  {
   "cell_type": "code",
   "execution_count": null,
   "metadata": {},
   "outputs": [],
   "source": [
    "model1.save_weights('./models/my_model/m_bnorm_mod')"
   ]
  },
  {
   "cell_type": "code",
   "execution_count": null,
   "metadata": {},
   "outputs": [],
   "source": [
    "model1.save_weights('./models/my_model/m_bnorm')\n",
    "model.save_weights('./models/imported_model/i_bnorm')"
   ]
  },
  {
   "cell_type": "markdown",
   "metadata": {},
   "source": [
    "# Check agreement test"
   ]
  },
  {
   "cell_type": "code",
   "execution_count": null,
   "metadata": {},
   "outputs": [],
   "source": [
    "import matplotlib.pylab as pylab\n",
    "\n",
    "params = {'legend.fontsize': 'x-large',\n",
    "         'axes.labelsize': '150',\n",
    "         'axes.titlesize':'40',\n",
    "         'xtick.labelsize':'x-large',\n",
    "         'ytick.labelsize':'x-large'}\n",
    "pylab.rcParams.update(params)\n",
    "\n",
    "plt.figure(figsize=(16,10))\n",
    "\n",
    "plt.xlabel('Epochs',size=30)\n",
    "plt.ylabel(\"Loss\",size=30)\n",
    "val = plt.plot(history.epoch, history.history['loss'],\n",
    "             label='Train loss', linewidth = 2)\n",
    "plt.plot(history.epoch, history.history['val_'+'loss'],\n",
    "             label='Validation loss', linewidth = 2)\n",
    "plt.legend(prop={'size':30})\n",
    "plt.xticks(fontsize = 25)\n",
    "plt.xticks(np.arange(0, max(history.epoch)+10, 500.0))\n",
    "plt.yticks(fontsize = 25)\n",
    "plt.xlim([0,max(history.epoch)+1])\n",
    "plt.show()\n",
    "plt.savefig('test.png', bbox_inches='tight')"
   ]
  },
  {
   "cell_type": "code",
   "execution_count": null,
   "metadata": {},
   "outputs": [],
   "source": [
    "model_tuned.predict(train_df)"
   ]
  },
  {
   "cell_type": "code",
   "execution_count": 119,
   "metadata": {},
   "outputs": [
    {
     "name": "stdout",
     "output_type": "stream",
     "text": [
      "[1.8562473e-15 1.8866131e-33 8.4488590e-11 ... 0.0000000e+00 7.7070257e-17\n",
      " 1.4698114e-18]\n",
      "KS metric 0.19992033859579014 False\n"
     ]
    }
   ],
   "source": [
    "check_agreement = pandas.read_csv(folder + 'check_agreement.csv.zip', index_col='id')\n",
    "check_agreement = add_features(check_agreement)\n",
    "check_agreement1 = check_agreement[variables_mod].to_numpy()\n",
    "agreement_probs = model.predict(check_agreement1).squeeze()\n",
    "print(agreement_probs)\n",
    "ks = evaluation.compute_ks(\n",
    "    agreement_probs[check_agreement['signal'].values == 0],\n",
    "    agreement_probs[check_agreement['signal'].values == 1],\n",
    "    check_agreement[check_agreement['signal'] == 0]['weight'].values,\n",
    "    check_agreement[check_agreement['signal'] == 1]['weight'].values)\n",
    "print('KS metric', ks, ks < 0.09)"
   ]
  },
  {
   "cell_type": "markdown",
   "metadata": {},
   "source": [
    "# Check correlation test"
   ]
  },
  {
   "cell_type": "code",
   "execution_count": 120,
   "metadata": {},
   "outputs": [
    {
     "name": "stdout",
     "output_type": "stream",
     "text": [
      "[1.0725059e-01 0.0000000e+00 2.8520667e-12 ... 7.0625579e-01 9.3361038e-01\n",
      " 9.0962332e-01]\n",
      "CvM metric 0.09743354571968595 False\n"
     ]
    }
   ],
   "source": [
    "check_correlation = pandas.read_csv(folder + 'check_correlation.csv.zip', index_col='id')\n",
    "check_correlation = add_features(check_correlation)\n",
    "check_correlation1 = check_correlation[variables_mod].to_numpy()\n",
    "correlation_probs = model.predict(check_correlation1).squeeze()\n",
    "print(correlation_probs)\n",
    "cvm = evaluation.compute_cvm(correlation_probs, check_correlation['mass'])\n",
    "print('CvM metric', cvm, cvm < 0.002)"
   ]
  },
  {
   "cell_type": "markdown",
   "metadata": {},
   "source": [
    "# Compute weighted AUC on the training data with min_ANNmuon > 0.4"
   ]
  },
  {
   "cell_type": "code",
   "execution_count": null,
   "metadata": {},
   "outputs": [],
   "source": [
    "train_eval = data[data['min_ANNmuon'] > 0.4]\n",
    "train_probs = model_tuned.predict(train_eval[variables_mod].to_numpy()).squeeze()\n",
    "AUC = sklearn.metrics.roc_auc_score(train_eval['signal'], train_probs)\n",
    "print('AUC', AUC)"
   ]
  },
  {
   "cell_type": "markdown",
   "metadata": {},
   "source": [
    "# Predict test, create file for kaggle"
   ]
  },
  {
   "cell_type": "code",
   "execution_count": null,
   "metadata": {},
   "outputs": [],
   "source": [
    "result = pandas.DataFrame({'id': test.index})\n",
    "result['prediction'] = model.predict(test[variables].to_numpy()).squeeze()"
   ]
  },
  {
   "cell_type": "code",
   "execution_count": null,
   "metadata": {},
   "outputs": [],
   "source": [
    "result.to_csv('submission.csv', index=False, sep=',')"
   ]
  },
  {
   "cell_type": "code",
   "execution_count": null,
   "metadata": {},
   "outputs": [],
   "source": [
    "!ls -l submission.csv"
   ]
  },
  {
   "cell_type": "code",
   "execution_count": null,
   "metadata": {},
   "outputs": [],
   "source": [
    "result.to_csv?"
   ]
  },
  {
   "cell_type": "code",
   "execution_count": null,
   "metadata": {},
   "outputs": [],
   "source": []
  }
 ],
 "metadata": {
  "kernelspec": {
   "display_name": "neural",
   "language": "python",
   "name": "neural"
  },
  "language_info": {
   "codemirror_mode": {
    "name": "ipython",
    "version": 3
   },
   "file_extension": ".py",
   "mimetype": "text/x-python",
   "name": "python",
   "nbconvert_exporter": "python",
   "pygments_lexer": "ipython3",
   "version": "3.6.8"
  }
 },
 "nbformat": 4,
 "nbformat_minor": 1
}
